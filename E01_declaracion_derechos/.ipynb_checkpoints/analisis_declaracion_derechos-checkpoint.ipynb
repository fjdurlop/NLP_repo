{
 "cells": [
  {
   "cell_type": "markdown",
   "metadata": {
    "id": "lNFbb9OYPkuA"
   },
   "source": [
    "# Analisis y procesamiento inteligente de textos\n",
    "\n",
    "- Crear un cuaderno Colaboratory en donde se utilice el texto de la Declaración Universal de Derechos Humanos en español, inglés y francés como \"corpus de entrenamiento\" para crear un sistema de reconocimiento de idioma.\n",
    "\n",
    "- Las unidades de análisis del texto serán n-gramas (ver vínculo)\n",
    "- Para cada lengua:\n",
    " - cuáles son las 30 unidades más comunes\n",
    " - cuáles son las 30 unidades menos comunes\n",
    " - cuales son las unidades compartidas\n",
    " - de las unidades compartidas cuál es su diferencia en el ranking (de cada lengua)\n",
    "\n",
    " - con esos datos crear un clasificador de lengua\n",
    "\n",
    "## Referencias\n",
    "* https://www.youtube.com/watch?v=E_mN90TYnlg&t=5s\n",
    "* https://es.wikipedia.org/wiki/N-grama\n",
    "* https://www.un.org/es/universal-declaration-human-rights/index.html"
   ]
  },
  {
   "cell_type": "code",
   "execution_count": null,
   "metadata": {
    "id": "Bv5MGLo8PhCc"
   },
   "outputs": [],
   "source": [
    "# Español\n",
    "f = open(\"declaracion_espaniol.txt\", \"r\")\n",
    "espaniol = f.read()\n",
    "\n",
    "# Ingles\n",
    "f = open(\"declaracion_ingles.txt\", \"r\")\n",
    "ingles = f.read()\n",
    "#Frances\n",
    "f = open(\"declaracion_frances.txt\", \"r\")\n",
    "frances = f.read()"
   ]
  },
  {
   "cell_type": "code",
   "execution_count": null,
   "metadata": {
    "colab": {
     "base_uri": "https://localhost:8080/",
     "height": 184
    },
    "id": "-go3gmVkP5ek",
    "outputId": "a5c84036-f718-4f3e-edd0-dc1734ba9500"
   },
   "outputs": [
    {
     "data": {
      "application/vnd.google.colaboratory.intrinsic+json": {
       "type": "string"
      },
      "text/plain": [
       "'Preámbulo\\n\\nConsiderando que la libertad la justicia y la paz en el mundo tienen por base el reconocimiento de la dignidad intrínseca y de los derechos iguales e inalienables de todos los miembros de la familia humana\\n\\nConsiderando que el desconocimiento y el menosprecio de los derechos humanos han originado actos de barbarie ultrajantes para la conciencia de la humanidad y que se ha proclamado como la aspiración más elevada del hombre el advenimiento de un mundo en que los seres humanos liberados del temor y de la miseria disfruten de la libertad de palabra y de la libertad de creencias\\n\\nConsiderando esencial que los derechos humanos sean protegidos por un régimen de Derecho a fin de que el hombre no se vea compelido al supremo recurso de la rebelión contra la tiranía y la opresión\\n\\nConsiderando también esencial promover el desarrollo de relaciones amistosas entre las naciones\\n\\nConsiderando que los pueblos de las Naciones Unidas han reafirmado en la Carta su fe en los derechos fundamentales del hombre en la dignidad y el valor de la persona humana y en la igualdad de derechos de hombres y mujeres y se han declarado resueltos a promover el progreso social y a elevar el nivel de vida dentro de un concepto más amplio de la libertad\\n\\nConsiderando que los Estados Miembros se han comprometido a asegurar en cooperación con la Organización de las Naciones Unidas el respeto universal y efectivo a los derechos y libertades fundamentales del hombre y\\n\\nConsiderando que una concepción común de estos derechos y libertades es de la mayor importancia para el pleno cumplimiento de dicho compromiso\\n\\nLA ASAMBLEA GENERAL proclama la presente DECLARACIÓN UNIVERSAL DE DERECHOS HUMANOS como ideal común por el que todos los pueblos y naciones deben esforzarse a fin de que tanto los individuos como las instituciones inspirándose constantemente en ella promuevan mediante la enseñanza y la educación el respeto a estos derechos y libertades y aseguren por medidas progresivas de carácter nacional e internacional su reconocimiento y aplicación universales y efectivos tanto entre los pueblos de los Estados Miembros como entre los de los territorios colocados bajo su jurisdicción \\nArtículo 1\\n \\n\\nTodos los seres humanos nacen libres e iguales en dignidad y derechos y dotados como están de razón y conciencia deben comportarse fraternalmente los unos con los otros\\nArtículo 2\\n \\n\\nToda persona tiene todos los derechos y libertades proclamados en esta Declaración sin distinción alguna de raza color sexo idioma religión opinión política o de cualquier otra índole origen nacional o social posición económica nacimiento o cualquier otra condición Además no se hará distinción alguna fundada en la condición política jurídica o internacional del país o territorio de cuya jurisdicción dependa una persona tanto si se trata de un país independiente como de un territorio bajo administración fiduciaria no autónomo o sometido a cualquier otra limitación de soberanía\\nArtículo 3\\n \\n\\nTodo individuo tiene derecho a la vida a la libertad y a la seguridad de su persona\\nArtículo 4\\n \\n\\nNadie estará sometido a esclavitud ni a servidumbre la esclavitud y la trata de esclavos están prohibidas en todas sus formas\\nArtículo 5\\n \\n\\nNadie será sometido a torturas ni a penas o tratos crueles inhumanos o degradantes\\nArtículo 6\\n \\n\\nTodo ser humano tiene derecho en todas partes al reconocimiento de su personalidad jurídica\\nArtículo 7\\n \\n\\nTodos son iguales ante la ley y tienen sin distinción derecho a igual protección de la ley Todos tienen derecho a igual protección contra toda discriminación que infrinja esta Declaración y contra toda provocación a tal discriminación\\nArtículo 8\\n \\n\\nToda persona tiene derecho a un recurso efectivo ante los tribunales nacionales competentes que la ampare contra actos que violen sus derechos fundamentales reconocidos por la constitución o por la ley\\nArtículo 9\\n \\n\\nNadie podrá ser arbitrariamente detenido preso ni desterrado\\nArtículo 10\\n \\n\\nToda persona tiene derecho en condiciones de plena igualdad a ser oída públicamente y con justicia por un tribunal independiente e imparcial para la determinación de sus derechos y obligaciones o para el examen de cualquier acusación contra ella en materia penal\\nArtículo 11\\n \\n\\n1 Toda persona acusada de delito tiene derecho a que se presuma su inocencia mientras no se pruebe su culpabilidad conforme a la ley y en juicio público en el que se le hayan asegurado todas las garantías necesarias para su defensa\\n2 Nadie será condenado por actos u omisiones que en el momento de cometerse no fueron delictivos según el Derecho nacional o internacional Tampoco se impondrá pena más grave que la aplicable en el momento de la comisión del delito\\nArtículo 12\\n \\n\\nNadie será objeto de injerencias arbitrarias en su vida privada su familia su domicilio o su correspondencia ni de ataques a su honra o a su reputación Toda persona tiene derecho a la protección de la ley contra tales injerencias o ataques\\nArtículo 13\\n \\n\\n1 Toda persona tiene derecho a circular libremente y a elegir su residencia en el territorio de un Estado\\n2 Toda persona tiene derecho a salir de cualquier país incluso del propio y a regresar a su país\\nArtículo 14\\n \\n\\n1 En caso de persecución toda persona tiene derecho a buscar asilo y a disfrutar de él en cualquier país\\n2 Este derecho no podrá ser invocado contra una acción judicial realmente originada por delitos comunes o por actos opuestos a los propósitos y principios de las Naciones Unidas\\nArtículo 15\\n \\n\\n1 Toda persona tiene derecho a una nacionalidad\\n2 A nadie se privará arbitrariamente de su nacionalidad ni del derecho a cambiar de nacionalidad\\nArtículo 16\\n \\n\\n1 Los hombres y las mujeres a partir de la edad núbil tienen derecho sin restricción alguna por motivos de raza nacionalidad o religión a casarse y fundar una familia y disfrutarán de iguales derechos en cuanto al matrimonio durante el matrimonio y en caso de disolución del matrimonio\\n2 Sólo mediante libre y pleno consentimiento de los futuros esposos podrá contraerse el matrimonio\\n3 La familia es el elemento natural y fundamental de la sociedad y tiene derecho a la protección de la sociedad y del Estado\\nArtículo 17\\n \\n\\n1 Toda persona tiene derecho a la propiedad individual y colectivamente\\n2 Nadie será privado arbitrariamente de su propiedad\\nArtículo 18\\n \\n\\nToda persona tiene derecho a la libertad de pensamiento de conciencia y de religión este derecho incluye la libertad de cambiar de religión o de creencia así como la libertad de manifestar su religión o su creencia individual y colectivamente tanto en público como en privado por la enseñanza la práctica el culto y la observancia\\nArtículo 19\\n \\n\\nTodo individuo tiene derecho a la libertad de opinión y de expresión este derecho incluye el de no ser molestado a causa de sus opiniones el de investigar y recibir informaciones y opiniones y el de difundirlas sin limitación de fronteras por cualquier medio de expresión\\nArtículo 20\\n \\n\\n1 Toda persona tiene derecho a la libertad de reunión y de asociación pacíficas\\n2 Nadie podrá ser obligado a pertenecer a una asociación\\nArtículo 21\\n \\n\\n1 Toda persona tiene derecho a participar en el gobierno de su país directamente o por medio de representantes libremente escogidos\\n2 Toda persona tiene el derecho de acceso en condiciones de igualdad a las funciones públicas de su país\\n3 La voluntad del pueblo es la base de la autoridad del poder público esta voluntad se expresará mediante elecciones auténticas que habrán de celebrarse periódicamente por sufragio universal e igual y por voto secreto u otro procedimiento equivalente que garantice la libertad del voto\\nArtículo 22\\n \\n\\nToda persona como miembro de la sociedad tiene derecho a la seguridad social y a obtener mediante el esfuerzo nacional y la cooperación internacional habida cuenta de la organización y los recursos de cada Estado la satisfacción de los derechos económicos sociales y culturales indispensables a su dignidad y al libre desarrollo de su personalidad\\nArtículo 23\\n \\n\\n1 Toda persona tiene derecho al trabajo a la libre elección de su trabajo a condiciones equitativas y satisfactorias de trabajo y a la protección contra el desempleo\\n2 Toda persona tiene derecho sin discriminación alguna a igual salario por trabajo igual\\n3 Toda persona que trabaja tiene derecho a una remuneración equitativa y satisfactoria que le asegure así como a su familia una existencia conforme a la dignidad humana y que será completada en caso necesario por cualesquiera otros medios de protección social\\n4 Toda persona tiene derecho a fundar sindicatos y a sindicarse para la defensa de sus intereses\\nArtículo 24\\n \\n\\nToda persona tiene derecho al descanso al disfrute del tiempo libre a una limitación razonable de la duración del trabajo y a vacaciones periódicas pagadas\\nArtículo 25\\n \\n\\n1 Toda persona tiene derecho a un nivel de vida adecuado que le asegure así como a su familia la salud y el bienestar y en especial la alimentación el vestido la vivienda la asistencia médica y los servicios sociales necesarios tiene asimismo derecho a los seguros en caso de desempleo enfermedad invalidez viudez vejez u otros casos de pérdida de sus medios de subsistencia por circunstancias independientes de su voluntad\\n2 La maternidad y la infancia tienen derecho a cuidados y asistencia especiales Todos los niños nacidos de matrimonio o fuera de matrimonio tienen derecho a igual protección social\\nArtículo 26\\n \\n\\n1 Toda persona tiene derecho a la educación La educación debe ser gratuita al menos en lo concerniente a la instrucción elemental y fundamental La instrucción elemental será obligatoria La instrucción técnica y profesional habrá de ser generalizada el acceso a los estudios superiores será igual para todos en función de los méritos respectivos\\n2 La educación tendrá por objeto el pleno desarrollo de la personalidad humana y el fortalecimiento del respeto a los derechos humanos y a las libertades fundamentales favorecerá la comprensión la tolerancia y la amistad entre todas las naciones y todos los grupos étnicos o religiosos y promoverá el desarrollo de las actividades de las Naciones Unidas para el mantenimiento de la paz\\n3 Los padres tendrán derecho preferente a escoger el tipo de educación que habrá de darse a sus hijos\\nArtículo 27\\n \\n\\n1 Toda persona tiene derecho a tomar parte libremente en la vida cultural de la comunidad a gozar de las artes y a participar en el progreso científico y en los beneficios que de él resulten\\n2 Toda persona tiene derecho a la protección de los intereses morales y materiales que le correspondan por razón de las producciones científicas literarias o artísticas de que sea autora\\nArtículo 28\\n \\n\\nToda persona tiene derecho a que se establezca un orden social e internacional en el que los derechos y libertades proclamados en esta Declaración se hagan plenamente efectivos\\nArtículo 29\\n \\n\\n1 Toda persona tiene deberes respecto a la comunidad puesto que sólo en ella puede desarrollar libre y plenamente su personalidad\\n2 En el ejercicio de sus derechos y en el disfrute de sus libertades toda persona estará solamente sujeta a las limitaciones establecidas por la ley con el único fin de asegurar el reconocimiento y el respeto de los derechos y libertades de los demás y de satisfacer las justas exigencias de la moral del orden público y del bienestar general en una sociedad democrática\\n3 Estos derechos y libertades no podrán en ningún caso ser ejercidos en oposición a los propósitos y principios de las Naciones Unidas\\nArtículo 30\\n \\n\\nNada en esta Declaración podrá interpretarse en el sentido de que confiere derecho alguno al Estado a un grupo o a una persona para emprender y desarrollar actividades o realizar actos tendientes a la supresión de cualquiera de los derechos y libertades proclamados en esta Declaración'"
      ]
     },
     "execution_count": 18,
     "metadata": {
      "tags": []
     },
     "output_type": "execute_result"
    }
   ],
   "source": [
    "import nltk, re, string, collections\n",
    "from nltk.util import ngrams # funcion para hacer ngramas\n",
    "\n",
    "punctuationNoPeriod = \"[\" + re.sub(\"\\.\",\"\",string.punctuation) + \"]\"\n",
    "text_esp = re.sub(punctuationNoPeriod, \"\", espaniol)\n",
    "text_ing = re.sub(punctuationNoPeriod, \"\", ingles)\n",
    "text_fra = re.sub(punctuationNoPeriod, \"\", frances)\n",
    "textos = [text_esp,text_ing,text_fra]\n",
    "textos[0]"
   ]
  },
  {
   "cell_type": "code",
   "execution_count": null,
   "metadata": {
    "colab": {
     "base_uri": "https://localhost:8080/"
    },
    "id": "ooAw205TQHd3",
    "outputId": "779e89e4-daa4-471e-cb36-0df0a686cfd6"
   },
   "outputs": [
    {
     "name": "stdout",
     "output_type": "stream",
     "text": [
      "30 unidades mas comunes\n",
      "[(('e', 'r', 'e', 'c', 'h'), 62), (('r', 'e', 'c', 'h', 'o'), 62), ((' ', 'd', 'e', 'r', 'e'), 60), (('d', 'e', 'r', 'e', 'c'), 60), (('c', 'i', 'ó', 'n', ' '), 58), ((' ', 'd', 'e', ' ', 'l'), 43), (('e', 'c', 'h', 'o', ' '), 42), ((' ', 'l', 'o', 's', ' '), 38), ((' ', 't', 'i', 'e', 'n'), 37), (('t', 'i', 'e', 'n', 'e'), 37), ((' ', 'p', 'e', 'r', 's'), 36), (('o', ' ', 'd', 'e', ' '), 35), (('p', 'e', 'r', 's', 'o'), 35), (('e', 'r', 's', 'o', 'n'), 35), (('r', 's', 'o', 'n', 'a'), 35), ((' ', 'q', 'u', 'e', ' '), 32), (('e', ' ', 'l', 'a', ' '), 32), (('d', 'e', ' ', 'l', 'a'), 32), (('a', 'c', 'i', 'ó', 'n'), 32), (('c', 'h', 'o', ' ', 'a'), 32), (('a', ' ', 'p', 'e', 'r'), 32), (('e', ' ', 'd', 'e', 'r'), 32), (('i', 'e', 'n', 'e', ' '), 31), (('o', 's', ' ', 'd', 'e'), 30), (('s', 'o', 'n', 'a', ' '), 30), (('\\n', 'A', 'r', 't', 'í'), 30), (('A', 'r', 't', 'í', 'c'), 30), (('r', 't', 'í', 'c', 'u'), 30), (('t', 'í', 'c', 'u', 'l'), 30), (('í', 'c', 'u', 'l', 'o'), 30)]\n",
      "30 unidades mas comunes\n",
      "[((' ', 't', 'h', 'e', ' '), 117), ((' ', 'a', 'n', 'd', ' '), 106), (('a', 't', 'i', 'o', 'n'), 60), ((' ', 'r', 'i', 'g', 'h'), 53), (('r', 'i', 'g', 'h', 't'), 53), (('t', 'i', 'o', 'n', ' '), 51), (('e', ' ', 'r', 'i', 'g'), 36), (('t', 'h', 'e', ' ', 'r'), 33), (('i', 'g', 'h', 't', ' '), 33), (('s', ' ', 't', 'h', 'e'), 32), (('t', ' ', 't', 'o', ' '), 32), (('h', 'e', ' ', 'r', 'i'), 32), ((' ', 'f', 'r', 'e', 'e'), 30), (('\\n', 'A', 'r', 't', 'i'), 30), (('A', 'r', 't', 'i', 'c'), 30), (('r', 't', 'i', 'c', 'l'), 30), (('t', 'i', 'c', 'l', 'e'), 30), (('i', 'c', 'l', 'e', ' '), 30), (('v', 'e', 'r', 'y', 'o'), 30), (('e', 'r', 'y', 'o', 'n'), 30), (('r', 'y', 'o', 'n', 'e'), 30), (('y', 'o', 'n', 'e', ' '), 30), (('E', 'v', 'e', 'r', 'y'), 29), ((' ', 'h', 'a', 's', ' '), 28), (('a', 's', ' ', 't', 'h'), 28), (('g', 'h', 't', ' ', 't'), 28), (('h', 't', ' ', 't', 'o'), 28), ((' ', 'o', 'f', ' ', 't'), 27), ((' ', 's', 'h', 'a', 'l'), 27), (('s', 'h', 'a', 'l', 'l'), 27)]\n",
      "30 unidades mas comunes\n",
      "[((' ', 'd', 'r', 'o', 'i'), 62), (('d', 'r', 'o', 'i', 't'), 62), (('a', 't', 'i', 'o', 'n'), 58), (('t', 'i', 'o', 'n', ' '), 51), (('m', 'e', 'n', 't', ' '), 41), ((' ', 'd', 'e', 's', ' '), 41), (('r', 'o', 'i', 't', ' '), 41), ((' ', 'd', 'e', ' ', 'l'), 39), (('t', ' ', 'd', 'e', ' '), 38), (('e', 'm', 'e', 'n', 't'), 37), (('e', ' ', 'l', 'a', ' '), 30), ((' ', 'l', 'e', 's', ' '), 30), (('\\n', 'A', 'r', 't', 'i'), 30), (('A', 'r', 't', 'i', 'c'), 30), (('r', 't', 'i', 'c', 'l'), 30), (('t', 'i', 'c', 'l', 'e'), 30), (('i', 'c', 'l', 'e', ' '), 30), ((' ', 'p', 'e', 'r', 's'), 28), (('p', 'e', 'r', 's', 'o'), 27), (('e', 'r', 's', 'o', 'n'), 27), (('r', 's', 'o', 'n', 'n'), 27), (('e', ' ', 'd', 'e', ' '), 26), (('e', ' ', 'e', 't', ' '), 26), (('s', ' ', 'e', 't', ' '), 26), (('o', 'u', 't', 'e', ' '), 26), (('d', 'e', ' ', 'l', 'a'), 25), (('s', ' ', 'd', 'e', ' '), 25), ((' ', 'e', 't', ' ', 'd'), 25), (('i', 'o', 'n', 's', ' '), 24), (('c', 't', 'i', 'o', 'n'), 24)]\n"
     ]
    }
   ],
   "source": [
    "n = 5 #Entre 1 y 5\n",
    "\n",
    "for text in textos:\n",
    "  \n",
    "  tokenized = list(text)\n",
    "\n",
    "  \n",
    "  esBigrams = ngrams(tokenized, n)\n",
    " \n",
    "  m=list(esBigrams)[:]\n",
    "  #Frecuencia de cada ngrama\n",
    "  esBigramFreq = collections.Counter(m)\n",
    "\n",
    "  # Mas comunes\n",
    "  print(\"30 unidades mas comunes\")\n",
    "  print(esBigramFreq.most_common(30))\n"
   ]
  },
  {
   "cell_type": "code",
   "execution_count": null,
   "metadata": {
    "colab": {
     "base_uri": "https://localhost:8080/"
    },
    "id": "ZIv36nRqQMSw",
    "outputId": "5c85363e-b75e-49eb-8b0a-93e0d81d88fe"
   },
   "outputs": [
    {
     "name": "stdout",
     "output_type": "stream",
     "text": [
      "30 unidades menos comunes\n",
      "[(('u', 'p', 'r', 'e', 's'), 1), (('a', ' ', 's', 'u', 'p'), 1), (('l', 'a', ' ', 's', 'u'), 1), (('t', 'e', 'n', 'd', 'i'), 1), (('t', 'o', 's', ' ', 't'), 1), (('z', 'a', 'r', ' ', 'a'), 1), (('i', 'z', 'a', 'r', ' '), 1), (('l', 'i', 'z', 'a', 'r'), 1), (('e', 'a', 'l', 'i', 'z'), 1), (('r', 'e', 'a', 'l', 'i'), 1), (('o', ' ', 'r', 'e', 'a'), 1), (('d', 'e', 's', ' ', 'o'), 1), (('l', 'a', 'r', ' ', 'a'), 1), (('y', ' ', 'd', 'e', 's'), 1), (('e', 'r', ' ', 'y', ' '), 1), (('d', 'e', 'r', ' ', 'y'), 1), (('n', 'd', 'e', 'r', ' '), 1), (('e', 'n', 'd', 'e', 'r'), 1), (('r', 'e', 'n', 'd', 'e'), 1), (('p', 'r', 'e', 'n', 'd'), 1), (('e', 'm', 'p', 'r', 'e'), 1), ((' ', 'e', 'm', 'p', 'r'), 1), (('a', ' ', 'e', 'm', 'p'), 1), (('r', 'a', ' ', 'e', 'm'), 1), (('n', 'a', ' ', 'p', 'a'), 1), (('o', 'n', 'a', ' ', 'p'), 1), (('o', ' ', 'o', ' ', 'a'), 1), (('p', 'o', ' ', 'o', ' '), 1), (('u', 'p', 'o', ' ', 'o'), 1), (('r', 'u', 'p', 'o', ' '), 1)]\n",
      "30 unidades menos comunes\n",
      "[(('e', 'r', 'e', 'i', 'n'), 1), (('h', 'e', 'r', 'e', 'i'), 1), ((' ', 'h', 'e', 'r', 'e'), 1), (('h', ' ', 'h', 'e', 'r'), 1), (('t', 'h', ' ', 'h', 'e'), 1), (('r', 't', 'h', ' ', 'h'), 1), (('n', 'y', ' ', 'o', 'f'), 1), (('r', 'u', 'c', 't', 'i'), 1), (('t', 'r', 'u', 'c', 't'), 1), (('s', 't', 'r', 'u', 'c'), 1), (('e', 's', 't', 'r', 'u'), 1), (('d', 'e', 's', 't', 'r'), 1), ((' ', 'd', 'e', 's', 't'), 1), (('e', ' ', 'd', 'e', 's'), 1), (('e', 'd', ' ', 'a', 't'), 1), ((' ', 'a', 'i', 'm', 'e'), 1), (('t', ' ', 'a', 'i', 'm'), 1), (('c', 't', ' ', 'a', 'i'), 1), (('a', 'c', 't', ' ', 'a'), 1), (('r', 'f', 'o', 'r', 'm'), 1), (('e', 'r', 'f', 'o', 'r'), 1), (('p', 'e', 'r', 'f', 'o'), 1), ((' ', 'p', 'e', 'r', 'f'), 1), (('o', ' ', 'p', 'e', 'r'), 1), (('t', 'o', ' ', 'p', 'e'), 1), (('v', 'i', 't', 'y', ' '), 1), (('i', 'v', 'i', 't', 'y'), 1), (('i', 'n', ' ', 'a', 'n'), 1), (('g', 'e', ' ', 'i', 'n'), 1), (('a', 'g', 'e', ' ', 'i'), 1)]\n",
      "30 unidades menos comunes\n",
      "[(('t', ' ', 'é', 'n', 'o'), 1), (('n', 't', ' ', 'é', 'n'), 1), (('y', ' ', 's', 'o', 'n'), 1), ((' ', 'y', ' ', 's', 'o'), 1), (('i', ' ', 'y', ' ', 's'), 1), (('u', 'i', ' ', 'y', ' '), 1), (('q', 'u', 'i', ' ', 'y'), 1), (('é', 's', ' ', 'q', 'u'), 1), (('t', 'é', 's', ' ', 'q'), 1), (('r', 'u', 'c', 't', 'i'), 1), (('t', 'r', 'u', 'c', 't'), 1), (('s', 't', 'r', 'u', 'c'), 1), (('e', 's', 't', 'r', 'u'), 1), (('d', 'e', 's', 't', 'r'), 1), ((' ', 'd', 'e', 's', 't'), 1), (('l', 'a', ' ', 'd', 'e'), 1), (('v', 'i', 's', 'a', 'n'), 1), ((' ', 'v', 'i', 's', 'a'), 1), (('e', ' ', 'v', 'i', 's'), 1), (('t', 'e', ' ', 'v', 'i'), 1), (('c', 't', 'e', ' ', 'v'), 1), (('i', 'r', ' ', 'u', 'n'), 1), (('l', 'i', 'r', ' ', 'u'), 1), (('d', 'a', 'c', 'c', 'o'), 1), ((' ', 'd', 'a', 'c', 'c'), 1), (('u', ' ', 'd', 'a', 'c'), 1), (('e', ' ', 'a', 'c', 't'), 1), (('r', ' ', 'à', ' ', 'u'), 1), (('r', 'e', 'r', ' ', 'à'), 1), (('v', 'r', 'e', 'r', ' '), 1)]\n"
     ]
    }
   ],
   "source": [
    "n=5\n",
    "\n",
    "n = 5 #Entre 1 y 5\n",
    "\n",
    "for text in textos:\n",
    "  \n",
    "  tokenized = list(text)\n",
    "\n",
    "  \n",
    "  esBigrams = ngrams(tokenized, n)\n",
    " \n",
    "  m=list(esBigrams)[:]\n",
    "  #Frecuencia de cada ngrama\n",
    "  esBigramFreq = collections.Counter(m)\n",
    "\n",
    "  # Menos comunes\n",
    "  print(\"30 unidades menos comunes\")\n",
    "  print(esBigramFreq.most_common()[:-30-1:-1])"
   ]
  },
  {
   "cell_type": "code",
   "execution_count": null,
   "metadata": {
    "id": "p9Jb5-zBT_nB"
   },
   "outputs": [],
   "source": []
  }
 ],
 "metadata": {
  "colab": {
   "name": "analisis_declaracion_derechos",
   "provenance": [],
   "toc_visible": true
  },
  "kernelspec": {
   "display_name": "Python 3",
   "language": "python",
   "name": "python3"
  },
  "language_info": {
   "codemirror_mode": {
    "name": "ipython",
    "version": 3
   },
   "file_extension": ".py",
   "mimetype": "text/x-python",
   "name": "python",
   "nbconvert_exporter": "python",
   "pygments_lexer": "ipython3",
   "version": "3.8.8"
  }
 },
 "nbformat": 4,
 "nbformat_minor": 1
}
