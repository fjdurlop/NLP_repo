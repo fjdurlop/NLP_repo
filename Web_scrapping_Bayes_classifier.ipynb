{
 "cells": [
  {
   "cell_type": "markdown",
   "id": "95195087",
   "metadata": {},
   "source": [
    "## Getting corpus using web scrapping\n",
    "- HTML Parsing\n",
    "\n",
    "## Naive Bayes Classification\n",
    "\n",
    "Tarea: Obtener las canciones de\n",
    "\n",
    "- https://genius.com/albums/Olivia-rodrigo/Sour\n",
    "- https://genius.com/albums/Taylor-swift/Fearless\n",
    "\n",
    "\n",
    "Crear un clasificador de Naive Bayes, para ver si se parecen las canciones de Olivia Rodrigo\n",
    "\n",
    "Notes:\n",
    "- With Bayes, we assume independance for each event"
   ]
  },
  {
   "cell_type": "markdown",
   "id": "cc25bc86",
   "metadata": {},
   "source": [
    "### Web scrapping "
   ]
  },
  {
   "cell_type": "code",
   "execution_count": 6,
   "id": "c55fd45d",
   "metadata": {},
   "outputs": [
    {
     "name": "stdout",
     "output_type": "stream",
     "text": [
      "Requirement already satisfied: requests in c:\\users\\fjdur\\anaconda3\\lib\\site-packages (2.25.1)\n",
      "Collecting spacy\n",
      "  Downloading spacy-3.1.1-cp38-cp38-win_amd64.whl (12.0 MB)\n",
      "Requirement already satisfied: urllib3<1.27,>=1.21.1 in c:\\users\\fjdur\\anaconda3\\lib\\site-packages (from requests) (1.26.4)\n",
      "Requirement already satisfied: chardet<5,>=3.0.2 in c:\\users\\fjdur\\anaconda3\\lib\\site-packages (from requests) (4.0.0)\n",
      "Requirement already satisfied: certifi>=2017.4.17 in c:\\users\\fjdur\\anaconda3\\lib\\site-packages (from requests) (2020.12.5)\n",
      "Requirement already satisfied: idna<3,>=2.5 in c:\\users\\fjdur\\anaconda3\\lib\\site-packages (from requests) (2.10)\n",
      "Requirement already satisfied: jinja2 in c:\\users\\fjdur\\anaconda3\\lib\\site-packages (from spacy) (2.11.3)\n",
      "Collecting srsly<3.0.0,>=2.4.1\n",
      "  Downloading srsly-2.4.1-cp38-cp38-win_amd64.whl (451 kB)\n",
      "Collecting spacy-legacy<3.1.0,>=3.0.7\n",
      "  Downloading spacy_legacy-3.0.8-py2.py3-none-any.whl (14 kB)\n",
      "Collecting blis<0.8.0,>=0.4.0\n",
      "  Downloading blis-0.7.4-cp38-cp38-win_amd64.whl (6.5 MB)\n",
      "Collecting pydantic!=1.8,!=1.8.1,<1.9.0,>=1.7.4\n",
      "  Downloading pydantic-1.8.2-cp38-cp38-win_amd64.whl (2.0 MB)\n",
      "Collecting catalogue<2.1.0,>=2.0.4\n",
      "  Downloading catalogue-2.0.4-py3-none-any.whl (16 kB)\n",
      "Collecting cymem<2.1.0,>=2.0.2\n",
      "  Downloading cymem-2.0.5-cp38-cp38-win_amd64.whl (36 kB)\n",
      "Collecting preshed<3.1.0,>=3.0.2\n",
      "  Downloading preshed-3.0.5-cp38-cp38-win_amd64.whl (112 kB)\n",
      "Collecting murmurhash<1.1.0,>=0.28.0\n",
      "  Downloading murmurhash-1.0.5-cp38-cp38-win_amd64.whl (21 kB)\n",
      "Requirement already satisfied: numpy>=1.15.0 in c:\\users\\fjdur\\anaconda3\\lib\\site-packages (from spacy) (1.19.5)\n",
      "Requirement already satisfied: setuptools in c:\\users\\fjdur\\anaconda3\\lib\\site-packages (from spacy) (52.0.0.post20210125)\n",
      "Collecting wasabi<1.1.0,>=0.8.1\n",
      "  Downloading wasabi-0.8.2-py3-none-any.whl (23 kB)\n",
      "Requirement already satisfied: packaging>=20.0 in c:\\users\\fjdur\\anaconda3\\lib\\site-packages (from spacy) (20.9)\n",
      "Collecting typer<0.4.0,>=0.3.0\n",
      "  Downloading typer-0.3.2-py3-none-any.whl (21 kB)\n",
      "Requirement already satisfied: tqdm<5.0.0,>=4.38.0 in c:\\users\\fjdur\\anaconda3\\lib\\site-packages (from spacy) (4.59.0)\n",
      "Collecting pathy>=0.3.5\n",
      "  Downloading pathy-0.6.0-py3-none-any.whl (42 kB)\n",
      "Collecting thinc<8.1.0,>=8.0.8\n",
      "  Downloading thinc-8.0.8-cp38-cp38-win_amd64.whl (1.0 MB)\n",
      "Requirement already satisfied: pyparsing>=2.0.2 in c:\\users\\fjdur\\anaconda3\\lib\\site-packages (from packaging>=20.0->spacy) (2.4.7)\n",
      "Collecting smart-open<6.0.0,>=5.0.0\n",
      "  Downloading smart_open-5.1.0-py3-none-any.whl (57 kB)\n",
      "Requirement already satisfied: typing-extensions>=3.7.4.3 in c:\\users\\fjdur\\anaconda3\\lib\\site-packages (from pydantic!=1.8,!=1.8.1,<1.9.0,>=1.7.4->spacy) (3.7.4.3)\n",
      "Requirement already satisfied: click<7.2.0,>=7.1.1 in c:\\users\\fjdur\\anaconda3\\lib\\site-packages (from typer<0.4.0,>=0.3.0->spacy) (7.1.2)\n",
      "Requirement already satisfied: MarkupSafe>=0.23 in c:\\users\\fjdur\\anaconda3\\lib\\site-packages (from jinja2->spacy) (1.1.1)\n",
      "Installing collected packages: murmurhash, cymem, catalogue, wasabi, typer, srsly, smart-open, pydantic, preshed, blis, thinc, spacy-legacy, pathy, spacy\n",
      "Successfully installed blis-0.7.4 catalogue-2.0.4 cymem-2.0.5 murmurhash-1.0.5 pathy-0.6.0 preshed-3.0.5 pydantic-1.8.2 smart-open-5.1.0 spacy-3.1.1 spacy-legacy-3.0.8 srsly-2.4.1 thinc-8.0.8 typer-0.3.2 wasabi-0.8.2\n"
     ]
    }
   ],
   "source": [
    "!pip install requests spacy"
   ]
  },
  {
   "cell_type": "code",
   "execution_count": 17,
   "id": "65da1da5",
   "metadata": {},
   "outputs": [],
   "source": [
    "import requests\n",
    "import spacy\n",
    "from bs4 import BeautifulSoup as soup"
   ]
  },
  {
   "cell_type": "code",
   "execution_count": 18,
   "id": "82d3795e",
   "metadata": {},
   "outputs": [],
   "source": [
    "headers = {\n",
    "    'User-Agent':'Mozilla/5.0'\n",
    "    \n",
    "}\n",
    "\n",
    "sour_url = 'https://genius.com/albums/Olivia-rodrigo/Sour'\n",
    "fearless_url = 'https://genius.com/albums/Taylor-swift/Fearless'"
   ]
  },
  {
   "cell_type": "code",
   "execution_count": 19,
   "id": "5d3b289c",
   "metadata": {},
   "outputs": [],
   "source": [
    "def get_soup(url,headers):\n",
    "    \"\"\"Get HTML parser\"\"\"\n",
    "    response = requests.get(url,headers=headers)\n",
    "    web_page = response.text\n",
    "    return soup(web_page,\"html.parser\")"
   ]
  },
  {
   "cell_type": "code",
   "execution_count": 20,
   "id": "56cd5674",
   "metadata": {},
   "outputs": [],
   "source": [
    "def get_tracks(url,headers):\n",
    "    page_soup = get_soup(url=url,headers=headers)\n",
    "    return page_soup.find_all(\"div\",\"chart_row-content\") # all divs that contain chart...\n"
   ]
  },
  {
   "cell_type": "code",
   "execution_count": 21,
   "id": "2c84dac5",
   "metadata": {},
   "outputs": [],
   "source": [
    "def get_lyrics(url,headers):\n",
    "    lyr= None\n",
    "    while lyr ==None:\n",
    "        page_soup = get_soup(url=url,headers=headers)\n",
    "        lyr = page_soup.find(\"div\",\"song_body-lyrics\")\n",
    "    return lyr.text.replace('\\u200b','').strip() # eliminate spaces"
   ]
  },
  {
   "cell_type": "code",
   "execution_count": 24,
   "id": "952d64a0",
   "metadata": {},
   "outputs": [],
   "source": [
    "def list_lyrics(url,headers):\n",
    "    tracks = get_tracks(url,headers)\n",
    "    links = [{\n",
    "     \"title\":title.find(\"h3\").next.strip().replace('\\u200b',''),\n",
    "    \"link\":title.find(\"a\")[\"href\"]\n",
    "    } for title in tracks]\n",
    "    return [{\n",
    "        \"title\":t[\"title\"],\n",
    "        \"lyrics\":get_lyrics(url =t[\"link\"],headers=headers)\n",
    "    } for t in links]"
   ]
  },
  {
   "cell_type": "code",
   "execution_count": 25,
   "id": "cddb7e7e",
   "metadata": {},
   "outputs": [],
   "source": [
    "sour_lyrics = list_lyrics(sour_url,headers)"
   ]
  },
  {
   "cell_type": "code",
   "execution_count": 26,
   "id": "eb404bfd",
   "metadata": {},
   "outputs": [],
   "source": [
    "fearless_lyrics = list_lyrics(fearless_url,headers)"
   ]
  },
  {
   "cell_type": "code",
   "execution_count": 30,
   "id": "5735cdaa",
   "metadata": {},
   "outputs": [
    {
     "name": "stdout",
     "output_type": "stream",
     "text": [
      "14\n"
     ]
    }
   ],
   "source": [
    "print(len(fearless_lyrics))"
   ]
  },
  {
   "cell_type": "code",
   "execution_count": 32,
   "id": "4a3b8efa",
   "metadata": {},
   "outputs": [
    {
     "name": "stdout",
     "output_type": "stream",
     "text": [
      "Love Story Lyrics\n",
      "\n",
      "\n",
      "\n",
      "[Verse 1]\n",
      "We were both young when I first saw you\n",
      "I close my eyes, and the flashback starts\n",
      "I'm standing there\n",
      "On a balcony in summer air\n",
      "See the lights, see the party, the ball gowns\n",
      "See you make your way through the crowd\n",
      "And say, \"Hello\"\n",
      "Little did I know\n",
      "\n",
      "[Pre-Chorus]\n",
      "That you were Romeo, you were throwing pebbles\n",
      "And my daddy said, \"Stay away from Juliet\"\n",
      "And I was crying on the staircase\n",
      "Begging you, \"Please don't go,\" and I said\n",
      "\n",
      "[Chorus]\n",
      "Romeo, take me somewhere we can be alone\n",
      "I'll be waiting, all there's left to do is run\n",
      "You'll be the prince and I'll be the princess\n",
      "It's a love story, baby, just say \"Yes\"\n",
      "\n",
      "[Verse 2]\n",
      "So I sneak out to the garden to see you\n",
      "We keep quiet, 'cause we're dead if they knew\n",
      "So close your eyes\n",
      "Escape this town for a little while, oh, oh\n",
      "\n",
      "[Pre-Chorus]\n",
      "'Cause you were Romeo, I was a scarlet letter\n",
      "And my daddy said, \"Stay away from Juliet\"\n",
      "But you were everything to me\n",
      "I was begging you, \"Please don't go,\" and I said\n",
      "\n",
      "[Chorus]\n",
      "Romeo, take me somewhere we can be alone\n",
      "I'll be waiting, all there's left to do is run\n",
      "You'll be the prince and I'll be the princess\n",
      "It's a love story, baby, just say \"Yes\"\n",
      "Romeo, save me, they're trying to tell me how to feel\n",
      "This love is difficult, but it's real\n",
      "Don't be afraid, we'll make it out of this mess\n",
      "It's a love story, baby, just say \"Yes\"\n",
      "\n",
      "[Post-Chorus]\n",
      "Oh, oh\n",
      "\n",
      "[Bridge]\n",
      "I got tired of waiting\n",
      "Wondering if you were ever coming around\n",
      "My faith in you was fading\n",
      "When I met you on the outskirts of town\n",
      "\n",
      "[Breakdown]\n",
      "And I said, \"Romeo, save me, I've been feeling so alone\n",
      "I keep waiting for you but you never come\n",
      "Is this in my head? I don't know what to think\"\n",
      "He knelt to the ground and pulled out a ring, and said\n",
      "\n",
      "[Chorus]\n",
      "\"Marry me, Juliet, you'll never have to be alone\n",
      "I love you, and that's all I really know\n",
      "I talked to your dad, go pick out a white dress\n",
      "It's a love story, baby, just say 'Yes'\"\n",
      "\n",
      "[Outro]\n",
      "Oh, oh, oh\n",
      "Oh, oh, oh\n",
      "'Cause we were both young when I first saw you\n",
      "\n",
      "\n",
      "\n",
      "\n",
      "\n",
      "More on Genius\n",
      "\n",
      "\n",
      "\n",
      "Taylor Swift Shares Her First Re-Recorded Single “Love Story (Taylor’s Version)”\n"
     ]
    }
   ],
   "source": [
    "print(fearless_lyrics[2][\"lyrics\"])"
   ]
  },
  {
   "cell_type": "code",
   "execution_count": 33,
   "id": "4e7d245e",
   "metadata": {},
   "outputs": [],
   "source": [
    "# cleaning texts\n",
    "import pandas as pd\n",
    "import re\n",
    "import nltk\n",
    "from nltk.corpus import stopwords\n",
    "from nltk.stem.porter import PorterStemmer\n",
    "from sklearn.feature_extraction.text import CountVectorizer"
   ]
  },
  {
   "cell_type": "code",
   "execution_count": 36,
   "id": "845ca06a",
   "metadata": {},
   "outputs": [
    {
     "name": "stdout",
     "output_type": "stream",
     "text": [
      "11\n",
      "14\n"
     ]
    }
   ],
   "source": [
    "print(len(sour_lyrics))\n",
    "print(len(fearless_lyrics))"
   ]
  },
  {
   "cell_type": "code",
   "execution_count": 37,
   "id": "de1250df",
   "metadata": {},
   "outputs": [
    {
     "name": "stdout",
     "output_type": "stream",
     "text": [
      "brutal Lyrics\n",
      "\n",
      "\n",
      "\n",
      "[Intro]\n",
      "I want it to be, like, messy\n",
      "\n",
      "[Verse 1]\n",
      "I'm so insecure, I think\n",
      "That I'll die before I drink\n",
      "And I'm so caught up in the news\n",
      "Of who likes me and who hates you\n",
      "And I'm so tired that I might\n",
      "Quit my job, start a new life\n",
      "And they'd all be so disappointed\n",
      "'Cause who am I if not exploited?\n",
      "And I'm so sick of seventeen\n",
      "Where's my fucking teenage dream?\n",
      "If someone tells me one more time\n",
      "\"Enjoy your youth,\" I'm gonna cry\n",
      "And I don't stick up for myself\n",
      "I'm anxious, and nothing can help\n",
      "And I wish I'd done this before\n",
      "And I wish people liked me more\n",
      "\n",
      "[Chorus]\n",
      "All I did was try my best\n",
      "This the kinda thanks I get?\n",
      "Unrelentlessly upset (Ah-ah-ah)\n",
      "They say these are the golden years\n",
      "But I wish I could disappear\n",
      "Ego crush is so severe\n",
      "God, it's brutal out here\n",
      "\n",
      "[Post-Chorus]\n",
      "(Yeah)\n",
      "\n",
      "[Verse 2]\n",
      "I feel like no one wants me\n",
      "And I hate the way I'm perceived\n",
      "I only have two real friends\n",
      "And lately, I'm a nervous wreck\n",
      "'Cause I love people I don't like\n",
      "And I hate every song I write\n",
      "And I'm not cool, and I'm not smart\n",
      "And I can't even parallel park\n",
      "\n",
      "[Chorus]\n",
      "All I did was try my best\n",
      "This the kinda thanks I get?\n",
      "Unrelentlessly upset (Ah-ah-ah)\n",
      "They say these are the golden years\n",
      "But I wish I could disappear\n",
      "Ego crush is so severe\n",
      "God, it's brutal out here\n",
      "\n",
      "[Post-Chorus]\n",
      "(Yeah)\n",
      "(Just havin' a really good time)\n",
      "\n",
      "[Outro]\n",
      "Got a broken ego, broken heart\n",
      "(Yeah, it's brutal out here, yeah, it's brutal out here)\n",
      "And God, I don't even know where to start\n",
      "\n",
      "\n",
      "\n",
      "\n",
      "\n",
      "More on Genius\n",
      "\n",
      "\n",
      "\n",
      "Why Olivia Rodrigo Fought For “Brutal” To Be Her ‘Sour’ Album Opener\n"
     ]
    }
   ],
   "source": [
    "print(sour_lyrics[0][\"lyrics\"])"
   ]
  },
  {
   "cell_type": "code",
   "execution_count": 40,
   "id": "a1de698f",
   "metadata": {},
   "outputs": [
    {
     "data": {
      "text/plain": [
       "{'title': 'Hey Stephen',\n",
       " 'lyrics': \"Hey Stephen Lyrics\\n\\n\\n\\n[Intro]\\nMmm-mm, mm-mm\\nMmm-mm, mm-mm\\nMmm-mm, mm-mm, yeah\\n\\n[Verse 1]\\nHey Stephen, I know looks can be deceiving\\nBut I know I saw a light in you\\nAnd as we walked we were talking\\nI didn't say half the things I wanted to\\nOf all the girls tossing rocks at your window\\nI'll be the one waiting there even when it's cold\\nHey Stephen, boy, you might have me believing\\nI don't always have to be alone\\n\\n[Chorus]\\n'Cause I can't help it if you look like an angel\\nCan't help it if I wanna kiss you in the rain so\\nCome feel this magic I've been feeling since I met you\\nCan't help it if there's no one else\\nMmm, I can't help myself\\n\\n[Verse 2]\\nHey Stephen, I've been holding back this feeling\\nSo I got some things to say to you\\nI've seen it all, so I thought\\nBut I never seen nobody shine the way you do\\nThe way you walk, way you talk, way you say my name\\nIt's beautiful, wonderful, don't you ever change\\nHey Stephen, why are people always leaving?\\nI think you and I should stay the same\\n\\n[Chorus]\\n'Cause I can't help it if you look like an angel\\nCan't help it if I wanna kiss you in the rain so\\nCome feel this magic I've been feeling since I met you\\nCan't help it if there's no one else\\nMmm, I can't help myself\\n\\n[Bridge]\\nThey're dimming the street lights, you're perfect for me\\nWhy aren't you here tonight?\\nI'm waiting alone now, so come on and come out\\nAnd pull me near and shine, shine, shine\\n\\n[Breakdown]\\nHey Stephen, I could give you fifty reasons\\nWhy I should be the one you choose\\nAll those other girls, well, they're beautiful\\nBut would they write a song for you? (Ha-ha)\\n\\n[Chorus]\\nI can't help it if you look like an angel\\nCan't help it if I wanna kiss you in the rain so\\nCome feel this magic I've been feeling since I met you\\nCan't help it if there's no one else\\nMmm, I can't help myself\\nIf you look like an angel\\nCan't help it if I wanna kiss you in the rain so\\nCome feel this magic I've been feeling since I met you\\nCan't help it if there's no one else\\nMmm, I can't help myself\\n\\n[Outro]\\nMyself\\nCan't help myself\\nI can't help myself\\n\\n\\n\\n\\n\\nMore on Genius\"}"
      ]
     },
     "execution_count": 40,
     "metadata": {},
     "output_type": "execute_result"
    }
   ],
   "source": [
    "# Create dataset\n",
    "#sour_lyrics\n",
    "fearless_lyrics[3]"
   ]
  },
  {
   "cell_type": "code",
   "execution_count": 46,
   "id": "0659584b",
   "metadata": {},
   "outputs": [],
   "source": [
    "dataset = []\n",
    "\n",
    "for sour_lyric in sour_lyrics:\n",
    "    dataset.append([sour_lyric[\"lyrics\"],\"Sour\"])\n",
    "    \n",
    "for fear_lyric in fearless_lyrics:\n",
    "    dataset.append([fear_lyric[\"lyrics\"],\"Fearless\"])"
   ]
  },
  {
   "cell_type": "code",
   "execution_count": 47,
   "id": "198cb197",
   "metadata": {},
   "outputs": [
    {
     "data": {
      "text/plain": [
       "['Fearless [Liner Notes] Lyrics\\n\\n\\n\\nTaylor\\'s Letter\\nThis album is called \"Fearless\", and I guess I\\'d like to clarify why we chose that as the title. To me, \"Fearless\" is not the absence of fear. It\\'s not being completely unafraid. To me, fearless is having fears. Fearless is having doubts. Lots of them. To me, fearless is living in spite of those things that scare you to death. Fearless is falling madly in love again, even though you\\'ve been hurt before. Fearless is walking into your freshman year of high school at fifteen. Fearless is getting back up and fighting for what you want over and over again...even though every time you\\'e tried before, you\\'ve lost. It\\'s fearless to have faith that someday things will change. Fearless is having the courage to say goodbye to someone who only hurts you, even if you can\\'t breathe without them. I think it\\'s fearless to fall for your best friend, even though he\\'s in love with someone else. And when someone apologizes to you enough times for things they\\'ll never stop doing, I think it\\'s fearless to stop believing them. It\\'s fearless to say \"you\\'re NOT sorry\", and walk away. I think loving someone despite what people think is fearless. I think allowing yourself to cry on the bathroom floor is fearless. Letting go is fearless. Then, moving on and being alright...That\\'s fearless too. But no matter what love throws at you, you have to believe in it. You have to believe in love stories and prince charmings and happily every after. That\\'s why I write these songs. Because I think love is fearless\\n\\n\\n1. Fearless\\nHidden message: I loved you before I met you\\n\\n2. Fifteen\\nHidden message: I cried while recording this\\n\\n3. Love Story\\nHidden message: Someday I\\'ll find this\\n\\n4. Hey Stephen\\nHidden message: Love and theft\\n\\n5. White Horse\\nHidden message: All I ever wanted was the truth\\n\\n6. You Belong With Me\\nHidden message: Love is blind so you couldn\\'t see me\\n\\n7. Breathe (featuring Colbie Caillat)\\nHidden message: I\\'m sorry I\\'m sorry I\\'m sorry\\n\\n8. Tell Me Why\\nHidden message: Guess I was fooled by your smile\\n\\n9. You\\'re Not Sorry\\nHidden message: She can have you\\n\\n10. The Way I Loved You\\nHidden message: We can\\'t go back\\n\\n11. Forever & Always\\nHidden message: If you play these games we\\'re both going to lose\\n\\n12. The Best Day\\nHidden message: God bless Andrea Swift\\n\\n13. Change\\nHidden message: You made things change for me\\n\\n\\nPlatinum Edition Tracks\\n1. Jump Then Fall\\nHidden message: Last summer was magical\\n\\n2. Untouchable\\nHidden message: We always want what we can\\'t reach\\n\\n3. Forever & Always (Piano Version)\\nHidden message: Still miss who I thought he was\\n\\n4. Come In With The Rain\\nHidden message: I won\\'t admit that I\\'d wish you\\'d come back\\n\\n5. Superstar\\nHidden message: I\\'ll never tell\\n\\n6. The Other Side Of The Door\\nHidden message: What I was really thinking when I slammed the door\\n\\n\\n\\n\\n\\nMore on Genius',\n",
       " 'Fearless']"
      ]
     },
     "execution_count": 47,
     "metadata": {},
     "output_type": "execute_result"
    }
   ],
   "source": [
    "dataset[-1]"
   ]
  },
  {
   "cell_type": "code",
   "execution_count": 51,
   "id": "a4da20d2",
   "metadata": {},
   "outputs": [],
   "source": [
    "dataset_pd = pd.DataFrame(dataset)\n",
    "dataset_pd.columns = [\"Lyrics\", \"Album\"]"
   ]
  },
  {
   "cell_type": "code",
   "execution_count": 52,
   "id": "8b147cbb",
   "metadata": {},
   "outputs": [
    {
     "data": {
      "text/html": [
       "<div>\n",
       "<style scoped>\n",
       "    .dataframe tbody tr th:only-of-type {\n",
       "        vertical-align: middle;\n",
       "    }\n",
       "\n",
       "    .dataframe tbody tr th {\n",
       "        vertical-align: top;\n",
       "    }\n",
       "\n",
       "    .dataframe thead th {\n",
       "        text-align: right;\n",
       "    }\n",
       "</style>\n",
       "<table border=\"1\" class=\"dataframe\">\n",
       "  <thead>\n",
       "    <tr style=\"text-align: right;\">\n",
       "      <th></th>\n",
       "      <th>Lyrics</th>\n",
       "      <th>Album</th>\n",
       "    </tr>\n",
       "  </thead>\n",
       "  <tbody>\n",
       "    <tr>\n",
       "      <th>0</th>\n",
       "      <td>brutal Lyrics\\n\\n\\n\\n[Intro]\\nI want it to be,...</td>\n",
       "      <td>Sour</td>\n",
       "    </tr>\n",
       "    <tr>\n",
       "      <th>1</th>\n",
       "      <td>traitor Lyrics\\n\\n\\n\\n[Intro]\\nOoh-ooh-ooh\\nAh...</td>\n",
       "      <td>Sour</td>\n",
       "    </tr>\n",
       "    <tr>\n",
       "      <th>2</th>\n",
       "      <td>drivers license Lyrics\\n\\n\\n\\n[Verse 1]\\nI got...</td>\n",
       "      <td>Sour</td>\n",
       "    </tr>\n",
       "    <tr>\n",
       "      <th>3</th>\n",
       "      <td>1 step forward, 3 steps back Lyrics\\n\\n\\n\\n[Ve...</td>\n",
       "      <td>Sour</td>\n",
       "    </tr>\n",
       "    <tr>\n",
       "      <th>4</th>\n",
       "      <td>deja vu Lyrics\\n\\n\\n\\n[Verse 1]\\nCar rides to ...</td>\n",
       "      <td>Sour</td>\n",
       "    </tr>\n",
       "    <tr>\n",
       "      <th>5</th>\n",
       "      <td>good 4 u Lyrics\\n\\n\\n\\n[Intro]\\n(Ah)\\n\\n[Verse...</td>\n",
       "      <td>Sour</td>\n",
       "    </tr>\n",
       "    <tr>\n",
       "      <th>6</th>\n",
       "      <td>enough for you Lyrics\\n\\n\\n\\n[Verse 1]\\nI wore...</td>\n",
       "      <td>Sour</td>\n",
       "    </tr>\n",
       "    <tr>\n",
       "      <th>7</th>\n",
       "      <td>happier Lyrics\\n\\n\\n\\n[Verse 1]\\nWe broke up a...</td>\n",
       "      <td>Sour</td>\n",
       "    </tr>\n",
       "    <tr>\n",
       "      <th>8</th>\n",
       "      <td>jealousy, jealousy Lyrics\\n\\n\\n\\n[Verse 1]\\nI ...</td>\n",
       "      <td>Sour</td>\n",
       "    </tr>\n",
       "    <tr>\n",
       "      <th>9</th>\n",
       "      <td>favorite crime Lyrics\\n\\n\\n\\n[Verse 1]\\nKnow t...</td>\n",
       "      <td>Sour</td>\n",
       "    </tr>\n",
       "    <tr>\n",
       "      <th>10</th>\n",
       "      <td>hope ur ok Lyrics\\n\\n\\n\\n[Verse 1]\\nI knew a b...</td>\n",
       "      <td>Sour</td>\n",
       "    </tr>\n",
       "    <tr>\n",
       "      <th>11</th>\n",
       "      <td>Fearless Lyrics\\n\\n\\n\\n[Verse 1]\\nThere's some...</td>\n",
       "      <td>Fearless</td>\n",
       "    </tr>\n",
       "    <tr>\n",
       "      <th>12</th>\n",
       "      <td>Fifteen Lyrics\\n\\n\\n\\n[Verse 1]\\nYou take a de...</td>\n",
       "      <td>Fearless</td>\n",
       "    </tr>\n",
       "    <tr>\n",
       "      <th>13</th>\n",
       "      <td>Love Story Lyrics\\n\\n\\n\\n[Verse 1]\\nWe were bo...</td>\n",
       "      <td>Fearless</td>\n",
       "    </tr>\n",
       "    <tr>\n",
       "      <th>14</th>\n",
       "      <td>Hey Stephen Lyrics\\n\\n\\n\\n[Intro]\\nMmm-mm, mm-...</td>\n",
       "      <td>Fearless</td>\n",
       "    </tr>\n",
       "    <tr>\n",
       "      <th>15</th>\n",
       "      <td>White Horse Lyrics\\n\\n\\n\\n[Verse 1]\\nSay you'r...</td>\n",
       "      <td>Fearless</td>\n",
       "    </tr>\n",
       "    <tr>\n",
       "      <th>16</th>\n",
       "      <td>You Belong with Me Lyrics\\n\\n\\n\\n[Verse 1]\\nYo...</td>\n",
       "      <td>Fearless</td>\n",
       "    </tr>\n",
       "    <tr>\n",
       "      <th>17</th>\n",
       "      <td>Breathe Lyrics\\n\\n\\n\\n[Verse 1: Taylor Swift]\\...</td>\n",
       "      <td>Fearless</td>\n",
       "    </tr>\n",
       "    <tr>\n",
       "      <th>18</th>\n",
       "      <td>Tell Me Why Lyrics\\n\\n\\n\\n[Verse 1]\\nI took a ...</td>\n",
       "      <td>Fearless</td>\n",
       "    </tr>\n",
       "    <tr>\n",
       "      <th>19</th>\n",
       "      <td>You’re Not Sorry Lyrics\\n\\n\\n\\n[Verse 1]\\nAll ...</td>\n",
       "      <td>Fearless</td>\n",
       "    </tr>\n",
       "    <tr>\n",
       "      <th>20</th>\n",
       "      <td>The Way I Loved You Lyrics\\n\\n\\n\\n[Verse 1]\\nH...</td>\n",
       "      <td>Fearless</td>\n",
       "    </tr>\n",
       "    <tr>\n",
       "      <th>21</th>\n",
       "      <td>Forever &amp; Always Lyrics\\n\\n\\n\\n[Verse 1]\\nOnce...</td>\n",
       "      <td>Fearless</td>\n",
       "    </tr>\n",
       "    <tr>\n",
       "      <th>22</th>\n",
       "      <td>The Best Day Lyrics\\n\\n\\n\\n[Verse 1]\\nI'm five...</td>\n",
       "      <td>Fearless</td>\n",
       "    </tr>\n",
       "    <tr>\n",
       "      <th>23</th>\n",
       "      <td>Change Lyrics\\n\\n\\n\\n[Verse 1]\\nAnd it's a sad...</td>\n",
       "      <td>Fearless</td>\n",
       "    </tr>\n",
       "    <tr>\n",
       "      <th>24</th>\n",
       "      <td>Fearless [Liner Notes] Lyrics\\n\\n\\n\\nTaylor's ...</td>\n",
       "      <td>Fearless</td>\n",
       "    </tr>\n",
       "  </tbody>\n",
       "</table>\n",
       "</div>"
      ],
      "text/plain": [
       "                                               Lyrics     Album\n",
       "0   brutal Lyrics\\n\\n\\n\\n[Intro]\\nI want it to be,...      Sour\n",
       "1   traitor Lyrics\\n\\n\\n\\n[Intro]\\nOoh-ooh-ooh\\nAh...      Sour\n",
       "2   drivers license Lyrics\\n\\n\\n\\n[Verse 1]\\nI got...      Sour\n",
       "3   1 step forward, 3 steps back Lyrics\\n\\n\\n\\n[Ve...      Sour\n",
       "4   deja vu Lyrics\\n\\n\\n\\n[Verse 1]\\nCar rides to ...      Sour\n",
       "5   good 4 u Lyrics\\n\\n\\n\\n[Intro]\\n(Ah)\\n\\n[Verse...      Sour\n",
       "6   enough for you Lyrics\\n\\n\\n\\n[Verse 1]\\nI wore...      Sour\n",
       "7   happier Lyrics\\n\\n\\n\\n[Verse 1]\\nWe broke up a...      Sour\n",
       "8   jealousy, jealousy Lyrics\\n\\n\\n\\n[Verse 1]\\nI ...      Sour\n",
       "9   favorite crime Lyrics\\n\\n\\n\\n[Verse 1]\\nKnow t...      Sour\n",
       "10  hope ur ok Lyrics\\n\\n\\n\\n[Verse 1]\\nI knew a b...      Sour\n",
       "11  Fearless Lyrics\\n\\n\\n\\n[Verse 1]\\nThere's some...  Fearless\n",
       "12  Fifteen Lyrics\\n\\n\\n\\n[Verse 1]\\nYou take a de...  Fearless\n",
       "13  Love Story Lyrics\\n\\n\\n\\n[Verse 1]\\nWe were bo...  Fearless\n",
       "14  Hey Stephen Lyrics\\n\\n\\n\\n[Intro]\\nMmm-mm, mm-...  Fearless\n",
       "15  White Horse Lyrics\\n\\n\\n\\n[Verse 1]\\nSay you'r...  Fearless\n",
       "16  You Belong with Me Lyrics\\n\\n\\n\\n[Verse 1]\\nYo...  Fearless\n",
       "17  Breathe Lyrics\\n\\n\\n\\n[Verse 1: Taylor Swift]\\...  Fearless\n",
       "18  Tell Me Why Lyrics\\n\\n\\n\\n[Verse 1]\\nI took a ...  Fearless\n",
       "19  You’re Not Sorry Lyrics\\n\\n\\n\\n[Verse 1]\\nAll ...  Fearless\n",
       "20  The Way I Loved You Lyrics\\n\\n\\n\\n[Verse 1]\\nH...  Fearless\n",
       "21  Forever & Always Lyrics\\n\\n\\n\\n[Verse 1]\\nOnce...  Fearless\n",
       "22  The Best Day Lyrics\\n\\n\\n\\n[Verse 1]\\nI'm five...  Fearless\n",
       "23  Change Lyrics\\n\\n\\n\\n[Verse 1]\\nAnd it's a sad...  Fearless\n",
       "24  Fearless [Liner Notes] Lyrics\\n\\n\\n\\nTaylor's ...  Fearless"
      ]
     },
     "execution_count": 52,
     "metadata": {},
     "output_type": "execute_result"
    }
   ],
   "source": [
    "dataset_pd"
   ]
  },
  {
   "cell_type": "code",
   "execution_count": 63,
   "id": "26c2bc2b",
   "metadata": {},
   "outputs": [
    {
     "name": "stderr",
     "output_type": "stream",
     "text": [
      "[nltk_data] Downloading package stopwords to\n",
      "[nltk_data]     C:\\Users\\fjdur\\AppData\\Roaming\\nltk_data...\n",
      "[nltk_data]   Package stopwords is already up-to-date!\n"
     ]
    }
   ],
   "source": [
    "nltk.download('stopwords')\n",
    "corpus = []\n",
    "  \n",
    "for i in range(0, 25):\n",
    "    text = re.sub('[^a-zA-Z]', ',', dataset_pd['Lyrics'][i])\n",
    "    text = text.lower()\n",
    "    text = text.split()\n",
    "    ps = PorterStemmer()\n",
    "    text = ''.join(text)\n",
    "    corpus.append(text)"
   ]
  },
  {
   "cell_type": "code",
   "execution_count": 64,
   "id": "e18cfa6d",
   "metadata": {},
   "outputs": [
    {
     "data": {
      "text/plain": [
       "['brutal,lyrics,,,,,intro,,i,want,it,to,be,,like,,messy,,,verse,,,,i,m,so,insecure,,i,think,that,i,ll,die,before,i,drink,and,i,m,so,caught,up,in,the,news,of,who,likes,me,and,who,hates,you,and,i,m,so,tired,that,i,might,quit,my,job,,start,a,new,life,and,they,d,all,be,so,disappointed,,cause,who,am,i,if,not,exploited,,and,i,m,so,sick,of,seventeen,where,s,my,fucking,teenage,dream,,if,someone,tells,me,one,more,time,,enjoy,your,youth,,,i,m,gonna,cry,and,i,don,t,stick,up,for,myself,i,m,anxious,,and,nothing,can,help,and,i,wish,i,d,done,this,before,and,i,wish,people,liked,me,more,,,chorus,,all,i,did,was,try,my,best,this,the,kinda,thanks,i,get,,unrelentlessly,upset,,ah,ah,ah,,they,say,these,are,the,golden,years,but,i,wish,i,could,disappear,ego,crush,is,so,severe,god,,it,s,brutal,out,here,,,post,chorus,,,yeah,,,,verse,,,,i,feel,like,no,one,wants,me,and,i,hate,the,way,i,m,perceived,i,only,have,two,real,friends,and,lately,,i,m,a,nervous,wreck,,cause,i,love,people,i,don,t,like,and,i,hate,every,song,i,write,and,i,m,not,cool,,and,i,m,not,smart,and,i,can,t,even,parallel,park,,,chorus,,all,i,did,was,try,my,best,this,the,kinda,thanks,i,get,,unrelentlessly,upset,,ah,ah,ah,,they,say,these,are,the,golden,years,but,i,wish,i,could,disappear,ego,crush,is,so,severe,god,,it,s,brutal,out,here,,,post,chorus,,,yeah,,,just,havin,,a,really,good,time,,,,outro,,got,a,broken,ego,,broken,heart,,yeah,,it,s,brutal,out,here,,yeah,,it,s,brutal,out,here,,and,god,,i,don,t,even,know,where,to,start,,,,,,more,on,genius,,,,why,olivia,rodrigo,fought,for,,brutal,,to,be,her,,sour,,album,opener',\n",
       " 'traitor,lyrics,,,,,intro,,ooh,ooh,ooh,ah,ah,ah,ah,ah,,,verse,,,,brown,guilty,eyes,and,little,white,lies,,yeah,i,played,dumb,,but,i,always,knew,that,you,talked,to,her,,maybe,did,even,worse,i,kept,quiet,so,i,could,keep,you,,,pre,chorus,,and,ain,t,it,funny,how,you,ran,to,her,the,second,that,we,called,it,quits,,and,ain,t,it,funny,how,you,said,you,were,friends,,now,it,sure,as,hell,don,t,look,like,it,,,chorus,,you,betrayed,me,and,i,know,that,you,ll,never,feel,sorry,for,the,way,i,hurt,,yeah,you,talked,to,her,when,we,were,together,loved,you,at,your,worst,,but,that,didn,t,matter,it,took,you,two,weeks,to,go,off,and,date,her,guess,you,didn,t,cheat,,but,you,re,still,a,traitor,,,verse,,,,now,you,bring,her,around,just,to,shut,me,down,show,her,off,like,she,s,a,new,trophy,and,i,know,if,you,were,true,there,s,no,damn,way,that,you,could,fall,in,love,with,somebody,that,quickly,,,pre,chorus,,and,ain,t,it,funny,,all,the,twisted,games,all,the,questions,you,used,to,avoid,ain,t,it,funny,,remember,i,brought,her,up,and,you,told,me,i,was,paranoid,,,,chorus,,you,betrayed,me,and,i,know,that,you,ll,never,feel,sorry,for,the,way,i,hurt,,yeah,you,talked,to,her,when,we,were,together,loved,you,at,your,worst,,but,that,didn,t,matter,it,took,you,two,weeks,to,go,off,and,date,her,guess,you,didn,t,cheat,,but,you,re,still,a,traitor,,,bridge,,,ah,ah,ah,,god,,i,wish,that,you,had,thought,this,through,before,i,went,and,fell,in,love,with,you,,ah,ah,ah,,when,she,s,sleepin,,in,the,bed,we,made,don,t,you,dare,forget,about,the,way,,,chorus,,you,betrayed,me,,cause,i,know,that,you,ll,never,feel,sorry,for,the,way,i,hurt,,yeah,you,talked,to,her,when,we,were,together,you,gave,me,your,word,,but,that,didn,t,matter,it,took,you,two,weeks,to,go,off,and,date,her,guess,you,didn,t,cheat,,but,you,re,still,,you,re,still,a,traitor,,ah,ah,ah,,yeah,,you,re,still,a,traitor,,,outro,,ooh,ooh,ooh,god,,i,wish,that,you,had,thought,this,through,before,i,went,and,fell,in,love,with,you,,,,,,more,on,genius',\n",
       " 'drivers,license,lyrics,,,,,verse,,,,i,got,my,driver,s,license,last,week,just,like,we,always,talked,about,,cause,you,were,so,excited,for,me,to,finally,drive,up,to,your,house,but,today,,i,drove,through,the,suburbs,crying,,cause,you,weren,t,around,,,verse,,,,and,you,re,probably,with,that,blonde,girl,who,always,made,me,doubt,she,s,so,much,older,than,me,she,s,everything,i,m,insecure,about,yeah,,today,,i,drove,through,the,suburbs,,cause,how,could,i,ever,love,someone,else,,,,chorus,,and,i,know,we,weren,t,perfect,but,i,ve,never,felt,this,way,for,no,one,and,i,just,can,t,imagine,how,you,could,be,so,okay,now,that,i,m,gone,guess,you,didn,t,mean,what,you,wrote,in,that,song,about,me,,cause,you,said,forever,,now,i,drive,alone,past,your,street,,,verse,,,,and,all,my,friends,are,tired,of,hearing,how,much,i,miss,you,,but,i,kinda,feel,sorry,for,them,,cause,they,ll,never,know,you,the,way,that,i,do,yeah,,today,,i,drove,through,the,suburbs,and,pictured,i,was,driving,home,to,you,,,chorus,,and,i,know,we,weren,t,perfect,but,i,ve,never,felt,this,way,for,no,one,,oh,and,i,just,can,t,imagine,how,you,could,be,so,okay,now,that,i,m,gone,i,guess,you,didn,t,mean,what,you,wrote,in,that,song,about,me,,cause,you,said,forever,,now,i,drive,alone,past,your,street,,,bridge,,red,lights,,stop,signs,i,still,see,your,face,in,the,white,cars,,front,yards,can,t,drive,past,the,places,we,used,to,go,to,,cause,i,still,fuckin,,love,you,,babe,,ooh,,ooh,ooh,,ooh,,ooh,ooh,,sidewalks,we,crossed,i,still,hear,your,voice,in,the,traffic,,we,re,laughing,over,all,the,noise,god,,i,m,so,blue,,know,we,re,through,but,i,still,fuckin,,love,you,,babe,,ooh,,ooh,ooh,,ooh,,ooh,ooh,,,,chorus,,i,know,we,weren,t,perfect,but,i,ve,never,felt,this,way,for,no,one,and,i,just,can,t,imagine,how,you,could,be,so,okay,now,that,i,m,gone,guess,you,didn,t,mean,what,you,wrote,in,that,song,about,me,,cause,you,said,forever,,now,i,drive,alone,past,your,street,,,outro,,yeah,,you,said,forever,,now,i,drive,alone,past,your,street,,,,,,more,on,genius,,,,the,genius,,,,,,year,in,lyrics,,so,far,,,top,songs,,,,,,here,s,everything,we,know,about,olivia,rodrigo,s,debut,album,,sour,,,,,,,olivia,rodrigo,s,new,song,,deja,vu,,picks,up,where,,drivers,license,,left,off',\n",
       " ',,step,forward,,,,steps,back,lyrics,,,,,verse,,,,called,you,on,the,phone,today,just,to,ask,you,how,you,were,all,i,did,was,speak,normally,somehow,,i,still,struck,a,nerve,you,got,me,fucked,up,in,the,head,,boy,never,doubted,myself,so,much,like,,am,i,pretty,,am,i,fun,,boy,,i,hate,that,i,give,you,power,over,that,kinda,stuff,,,chorus,,,cause,it,s,always,one,step,forward,and,three,steps,back,i,m,the,love,of,your,life,until,i,make,you,mad,it,s,always,one,step,forward,and,three,steps,back,do,you,love,me,,want,me,,hate,me,,boy,,i,don,t,understand,no,,i,don,t,understand,,,verse,,,,and,maybe,in,some,masochistic,way,i,kind,of,find,it,all,exciting,like,,which,lover,will,i,get,today,,will,you,walk,me,to,the,door,or,send,me,home,crying,,,,chorus,,it,s,one,step,forward,and,three,steps,back,i,m,the,love,of,your,life,until,i,make,you,mad,it,s,always,one,step,forward,and,three,steps,back,do,you,love,me,,want,me,,hate,me,,boy,,i,don,t,understand,,,bridge,,no,,it,s,back,and,forth,,did,i,say,something,wrong,,it,s,back,and,forth,,going,over,everything,i,said,it,s,back,and,forth,,did,i,do,something,wrong,,it,s,back,and,forth,,maybe,this,is,all,your,fault,instead,,,chorus,,it,s,one,step,forward,and,three,steps,back,and,i,d,leave,you,,but,the,rollercoaster,s,all,i,ve,ever,had,yeah,,it,s,one,step,forward,and,three,steps,back,do,you,love,me,,want,me,,hate,me,,boy,,i,don,t,understand,no,,i,don,t,understand,,,,,,more,on,genius,,,,here,s,why,taylor,swift,got,a,writing,credit,on,olivia,rodrigo,s,,,,step,forward,,,,steps,back,',\n",
       " 'deja,vu,lyrics,,,,,verse,,,,car,rides,to,malibu,strawberry,ice,cream,,one,spoon,for,two,and,tradin,,jackets,laughin,,,bout,how,small,it,looks,on,you,,ha,ha,ha,ha,,ha,ha,ha,ha,ha,,ha,ha,ha,ha,,watching,reruns,of,glee,bein,,annoying,,singin,,in,harmony,i,bet,she,s,braggin,,to,all,her,friends,,sayin,,you,re,so,unique,,hmm,,,pre,chorus,,so,when,you,gonna,tell,her,that,we,did,that,,too,,she,thinks,it,s,special,,but,it,s,all,reused,that,was,our,place,,i,found,it,first,i,made,the,jokes,you,tell,to,her,when,she,s,with,you,,,chorus,,do,you,get,d,j,,vu,when,she,s,with,you,,do,you,get,d,j,,vu,,,ah,,hmm,do,you,get,d,j,,vu,,huh,,,,verse,,,,do,you,call,her,,almost,say,my,name,,,cause,let,s,be,honest,,we,kinda,do,sound,the,same,another,actress,i,hate,to,think,that,i,was,just,your,type,and,i,bet,that,she,knows,billy,joel,,cause,you,played,her,,uptown,girl,,you,re,singin,,it,together,now,i,bet,you,even,tell,her,how,you,love,her,in,between,the,chorus,and,the,verse,,ooh,,i,love,you,,,,pre,chorus,,so,when,you,gonna,tell,her,that,we,did,that,,too,,she,thinks,it,s,special,,but,it,s,all,reused,that,was,the,show,we,talked,about,played,you,the,songs,she,s,singing,now,when,she,s,with,you,,,chorus,,do,you,get,d,j,,vu,when,she,s,with,you,,do,you,get,d,j,,vu,,,oh,oh,,do,you,get,d,j,,vu,,,,bridge,,strawberry,ice,cream,in,malibu,don,t,act,like,we,didn,t,do,that,shit,,too,you,re,tradin,,jackets,like,we,used,to,do,,yeah,,everything,is,all,reused,,play,her,piano,,but,she,doesn,t,know,,oh,,oh,,that,i,was,the,one,who,taught,you,billy,joel,,oh,,a,different,girl,now,,but,there,s,nothing,new,,,outro,,i,know,you,get,d,j,,vu,i,know,you,get,d,j,,vu,i,know,you,get,d,j,,vu,,,,,,more,on,genius,,,,the,genius,,,,,,year,in,lyrics,,so,far,,,top,songs,,,,,,here,s,why,taylor,swift,got,a,writing,credit,on,olivia,rodrigo,s,,,,step,forward,,,,steps,back,,,,,,,olivia,rodrigo,s,new,song,,deja,vu,,picks,up,where,,drivers,license,,left,off',\n",
       " 'good,,,u,lyrics,,,,,intro,,,ah,,,,verse,,,,well,,good,for,you,,i,guess,you,moved,on,really,easily,you,found,a,new,girl,and,it,only,took,a,couple,weeks,remember,when,you,said,that,you,wanted,to,give,me,the,world,,,world,,and,good,for,you,,i,guess,that,you,ve,been,workin,,on,yourself,i,guess,that,therapist,i,found,for,you,,she,really,helped,now,you,can,be,a,better,man,for,your,brand,new,girl,,girl,,,,chorus,,well,,good,for,you,you,look,happy,and,healthy,,not,me,if,you,ever,cared,to,ask,good,for,you,you,re,doin,,great,out,there,without,me,,baby,god,,i,wish,that,i,could,do,that,i,ve,lost,my,mind,,i,ve,spent,the,night,cryin,,on,the,floor,of,my,bathroom,but,you,re,so,unaffected,,i,really,don,t,get,it,but,i,guess,good,for,you,,,verse,,,,well,,good,for,you,,i,guess,you,re,gettin,,everything,you,want,,ah,,you,bought,a,new,car,and,your,career,s,really,takin,,off,,ah,,it,s,like,we,never,even,happened,baby,,what,the,fuck,is,up,with,that,,,ah,,and,good,for,you,,it,s,like,you,never,even,met,me,remember,when,you,swore,to,god,i,was,the,only,person,who,ever,got,you,,well,,screw,that,,and,screw,you,you,will,never,have,to,hurt,the,way,you,know,that,i,do,,,chorus,,well,,good,for,you,you,look,happy,and,healthy,,not,me,if,you,ever,cared,to,ask,good,for,you,you,re,doin,,great,out,there,without,me,,baby,god,,i,wish,that,i,could,do,that,i,ve,lost,my,mind,,i,ve,spent,the,night,cryin,,on,the,floor,of,my,bathroom,but,you,re,so,unaffected,,i,really,don,t,get,it,but,i,guess,good,for,you,,,break,,,ah,ah,ah,ah,,,ah,ah,ah,ah,,,,bridge,,maybe,i,m,too,emotional,but,your,apathy,s,like,a,wound,in,salt,maybe,i,m,too,emotional,or,maybe,you,never,cared,at,all,maybe,i,m,too,emotional,your,apathy,is,like,a,wound,in,salt,maybe,i,m,too,emotional,or,maybe,you,never,cared,at,all,,,chorus,,well,,good,for,you,you,look,happy,and,healthy,,not,me,if,you,ever,cared,to,ask,good,for,you,you,re,doin,,great,out,there,without,me,,baby,like,a,damn,sociopath,i,ve,lost,my,mind,,i,ve,spent,the,night,cryin,,on,the,floor,of,my,bathroom,but,you,re,so,unaffected,,i,really,don,t,get,it,but,i,guess,good,for,you,,,outro,,well,,good,for,you,,i,guess,you,moved,on,really,easily,,,,,,more,on,genius,,,,olivia,rodrigo,scores,a,second,no,,,,debut,with,,good,,,u,,,,j,,cole,earns,his,highest,charting,hit,,,,,,olivia,rodrigo,channels,cult,film,,jennifer,s,body,,in,the,video,for,her,pop,punk,inspired,single,,good,,,u,',\n",
       " 'enough,for,you,lyrics,,,,,verse,,,,i,wore,makeup,when,we,dated,,cause,i,thought,you,d,like,me,more,if,i,looked,like,the,other,prom,queens,i,know,that,you,loved,before,tried,so,hard,to,be,everything,that,you,liked,just,for,you,to,say,you,re,not,the,compliment,type,,,verse,,,,and,i,knew,how,you,took,your,coffee,and,your,favorite,songs,by,heart,i,read,all,of,your,self,help,books,so,you,d,think,that,i,was,smart,stupid,,emotional,,obsessive,little,me,i,knew,from,the,start,this,is,exactly,how,you,d,leave,,,chorus,,you,found,someon,,more,exciting,the,n,xt,second,,you,were,gone,and,you,left,me,there,cryin,,,wonderin,,what,i,did,wrong,and,you,always,say,i,m,never,satisfied,but,i,don,t,think,that,s,true,,cause,all,i,ever,wanted,was,to,be,enough,for,you,yeah,,all,i,ever,wanted,was,to,be,enough,for,you,,,verse,,,,and,maybe,i,m,just,not,as,interesting,as,the,girls,you,had,before,but,god,,you,couldn,t,have,cared,less,about,someone,who,loved,you,more,i,d,say,you,broke,my,heart,but,you,broke,much,more,than,that,now,i,don,t,want,your,sympathy,i,just,want,myself,back,,,chorus,,before,you,found,someone,more,exciting,the,next,second,,you,were,gone,and,you,left,me,there,cryin,,,wonderin,,what,i,did,wrong,and,you,always,say,i,m,never,satisfied,but,i,don,t,think,that,s,true,,cause,all,i,ever,wanted,was,to,be,enough,,,bridge,,and,don,t,you,think,i,loved,you,too,much,to,be,used,and,discarded,,don,t,you,think,i,loved,you,too,much,to,think,i,deserve,nothing,,but,don,t,tell,me,you,re,sorry,,boy,feel,sorry,for,yourself,,cause,someday,,i,ll,be,everything,to,somebody,else,and,they,ll,think,that,i,am,so,exciting,and,you,ll,be,the,one,who,s,crying,,,outro,,yeah,,you,always,say,i,m,never,satisfied,but,i,don,t,think,that,s,true,you,say,i,m,never,satisfied,but,that,s,not,me,,it,s,you,,cause,all,i,ever,wanted,was,to,be,enough,but,i,don,t,think,anything,could,ever,be,enough,for,you,enough,for,you,,oh,no,,nothing,s,enough,for,you,,,,,,more,on,genius,,,,how,instagram,,,fiona,apple,influenced,olivia,rodrigo,s,,jealousy,,jealousy,',\n",
       " 'happier,lyrics,,,,,verse,,,,we,broke,up,a,month,ago,your,friends,are,mine,,you,know,i,know,you,ve,moved,on,,found,someone,new,one,more,girl,who,brings,out,the,better,in,you,and,i,thought,my,heart,was,detached,from,all,the,sunlight,of,our,past,but,she,s,so,sweet,,she,s,so,pretty,does,she,mean,you,forgot,about,me,,,,chorus,,oh,,i,hope,you,re,happy,but,not,like,how,you,were,with,me,i,m,selfish,,i,know,,i,can,t,let,you,go,so,find,someone,great,,but,don,t,find,no,one,better,i,hope,you,re,happy,,but,don,t,be,happier,,,verse,,,,and,do,you,tell,her,she,s,the,most,beautiful,girl,you,ve,ever,seen,,an,eternal,love,bullshit,you,know,you,ll,never,mean,remember,when,i,believed,you,meant,it,when,you,said,it,first,to,me,,and,now,i,m,pickin,,her,apart,like,cuttin,,her,down,will,make,you,miss,my,wretched,heart,but,she,s,beautiful,,she,looks,kind,she,probably,gives,you,butterflies,,,chorus,,i,hope,you,re,happy,but,not,like,how,you,were,with,me,i,m,selfish,,i,know,,i,can,t,let,you,go,so,find,someone,great,,but,don,t,find,no,one,better,i,hope,you,re,happy,i,wish,you,all,the,best,,really,say,you,love,her,,baby,just,not,like,you,loved,me,and,think,of,me,fondly,when,your,hands,are,on,her,i,hope,you,re,happy,,but,don,t,be,happier,,,bridge,,ooh,,ooh,ooh,ooh,ooh,,ooh,ooh,,,chorus,,i,hope,you,re,happy,just,not,like,how,you,were,with,me,i,m,selfish,,i,know,,can,t,let,you,go,so,find,someone,great,,but,don,t,find,no,one,better,i,hope,you,re,happy,,but,don,t,be,happier,,,,,,more,on,genius',\n",
       " 'jealousy,,jealousy,lyrics,,,,,verse,,,,i,kinda,wanna,throw,my,phone,across,the,room,,cause,all,i,see,are,girls,too,good,to,be,true,with,paper,white,teeth,and,perfect,bodies,wish,i,didn,t,care,,,pre,chorus,,i,know,their,beauty,s,not,my,lack,but,it,feels,like,that,weight,is,on,my,back,and,i,can,t,let,it,go,,,chorus,,com,comparison,is,killin,,me,slowly,i,think,i,think,too,much,,bout,kids,who,don,t,know,me,i,m,so,sick,of,myself,i,d,rather,be,,rather,be,anyone,,anyone,else,my,jealousy,,jealousy,started,followin,,me,,he,he,he,,he,,started,followin,,me,,he,he,he,,he,,,,verse,,,,and,i,see,everyone,gettin,,all,the,things,i,want,i,m,happy,for,them,,but,then,again,,i,m,not,just,cool,vintage,clothes,and,vacation,photos,i,can,t,stand,it,oh,god,,i,sound,crazy,,,pre,chorus,,their,win,is,not,my,loss,i,know,it,s,true,,but,i,can,t,help,gettin,,caught,up,in,it,all,,,chorus,,com,comparison,is,killin,,me,slowly,i,think,i,think,too,much,,bout,kids,who,don,t,know,me,i,m,so,sick,of,myself,rather,be,,rather,be,anyone,,anyone,else,my,jealousy,,jealousy,,yeah,,,,bridge,,all,your,friends,are,so,cool,,you,go,out,every,night,in,your,daddy,s,nice,car,,yeah,,you,re,livin,,the,life,got,a,pretty,face,,a,pretty,boyfriend,,too,i,wanna,be,you,so,bad,and,i,don,t,even,know,you,all,i,see,is,what,i,should,be,happier,,prettier,,jealousy,,jealousy,all,i,see,is,what,i,should,be,i,m,losin,,it,,all,i,get,s,jealousy,,jealousy,,,chorus,,com,comparison,is,killin,,me,slowly,i,think,i,think,too,much,,bout,kids,who,don,t,know,me,and,i,m,so,sick,of,myself,rather,be,,rather,be,,oh,,oh,,anyone,,anyone,else,,anybody,else,,jealousy,,jealousy,oh,,i,m,so,sick,of,myself,i,d,rather,be,,rather,be,,oh,oh,oh,,anyone,,anyone,else,jealousy,,jealousy,started,followin,,me,,,,,,more,on,genius,,,,how,instagram,,,fiona,apple,influenced,olivia,rodrigo,s,,jealousy,,jealousy,',\n",
       " 'favorite,crime,lyrics,,,,,verse,,,,know,that,i,loved,you,so,bad,i,let,you,treat,me,like,that,i,was,your,willing,accomplice,,honey,and,i,watched,as,you,fled,the,scene,doe,eyed,as,you,buried,me,one,heart,broke,,four,hands,bloody,,,chorus,,the,things,i,did,just,so,i,could,call,you,mine,the,things,you,did,well,,i,hope,i,was,your,favorite,crime,,,verse,,,,you,used,me,as,an,alibi,i,crossed,my,heart,as,you,crossed,the,line,and,i,defended,you,to,all,my,friends,and,now,every,time,a,siren,sounds,i,wond,r,if,you,re,around,,cause,you,know,that,i,d,do,it,all,again,,,chorus,,oh,,the,things,i,did,just,so,i,could,call,you,min,,the,things,you,did,well,,i,hope,i,was,your,favorite,crime,,,bridge,,it,s,bittersweet,to,think,about,the,damage,that,we,d,do,,cause,i,was,goin,,down,,but,i,was,doin,,it,with,you,yeah,,everything,we,broke,and,all,the,trouble,that,we,made,but,i,say,that,i,hate,you,with,a,smile,on,my,face,oh,,look,what,we,became,,,chorus,,oh,,the,things,i,did,just,so,i,could,call,you,mine,oh,,the,things,you,did,well,,i,hope,i,was,your,favorite,crime,,,outro,,your,favorite,crime,your,favorite,crime,,cause,,baby,,you,were,mine,,,,,,more,on,genius',\n",
       " 'hope,ur,ok,lyrics,,,,,verse,,,,i,knew,a,boy,once,when,i,was,small,a,towhead,blond,with,eyes,of,salt,he,played,the,drum,in,the,marching,band,his,parents,cared,more,about,the,bible,than,being,good,to,their,own,child,he,wore,long,sleeves,,cause,of,his,dad,and,somehow,,we,fell,out,of,touch,hope,he,took,his,bad,deal,and,made,a,royal,flush,don,t,know,if,i,ll,see,you,again,someday,but,if,you,re,out,there,,i,hope,that,you,re,okay,,,verse,,,,my,middle,school,friend,grew,up,alone,she,raised,her,brothers,on,h,r,own,her,parents,hated,who,sh,,loved,she,couldn,t,wait,to,go,to,college,she,was,tired,,cause,she,was,brought,into,a,world,where,family,was,merely,blood,does,she,know,how,proud,i,am,she,was,created,with,the,courage,to,unlearn,all,of,their,hatred,,we,don,t,talk,much,,but,i,just,gotta,say,i,miss,you,and,i,hope,that,you,re,okay,,,bridge,,address,the,letters,to,the,holes,in,my,butterfly,wings,nothing,s,forever,,nothing,is,as,good,as,it,seems,and,when,the,clouds,won,t,iron,out,and,the,monsters,creep,into,your,house,and,every,door,is,hard,to,close,,,outro,,well,,i,hope,you,know,how,proud,i,am,you,were,created,with,the,courage,to,unlearn,all,of,their,hatred,but,,god,,i,hope,that,you,re,happier,today,,cause,i,love,you,and,i,hope,that,you,re,okay,,,,,,more,on,genius',\n",
       " 'fearless,lyrics,,,,,verse,,,,there,s,something,,bout,the,way,the,street,looks,when,it,s,just,rained,there,s,a,glow,off,the,pavement,,you,walk,me,to,the,car,and,you,know,i,wanna,ask,you,to,dance,right,there,in,the,middle,of,the,parking,lot,,yeah,oh,,yeah,,,verse,,,,we,re,driving,down,the,road,,i,wonder,if,you,know,i,m,trying,so,hard,not,to,get,caught,up,now,but,you,re,just,so,cool,,run,your,hands,through,your,hair,absentmindedly,making,me,want,you,,,chorus,,and,i,don,t,know,how,it,gets,better,than,this,you,take,my,hand,and,drag,me,head,first,,fearless,and,i,don,t,know,why,but,with,you,i,d,dance,in,a,storm,in,my,best,dress,,fearless,,,verse,,,,so,,baby,,drive,slow,,til,we,run,out,of,road,in,this,one,horse,town,,i,wanna,stay,right,here,in,this,passenger,s,seat,you,put,your,eyes,on,me,in,this,moment,now,,capture,it,,remember,it,,,chorus,,,cause,i,don,t,know,how,it,gets,better,than,this,you,take,my,hand,and,drag,me,head,first,,fearless,and,i,don,t,know,why,but,with,you,i,d,dance,in,a,storm,in,my,best,dress,,fearless,,,bridge,,well,,you,stood,there,with,me,in,the,doorway,my,hands,shake,,i,m,not,usually,this,way,but,you,pull,me,in,and,i,m,a,little,more,brave,it,s,the,first,kiss,,it,s,flawless,,really,something,it,s,fearless,oh,,yeah,,,chorus,,,cause,i,don,t,know,how,it,gets,better,than,this,you,take,my,hand,and,drag,me,head,first,,fearless,and,i,don,t,know,why,but,with,you,i,d,dance,in,a,storm,in,my,best,dress,,fearless,,cause,i,don,t,know,how,it,gets,better,than,this,you,take,my,hand,and,drag,me,head,first,,fearless,and,i,don,t,know,why,but,with,you,i,d,dance,in,a,storm,in,my,best,dress,,fearless,,,outro,,oh,,oh,oh,,yeah,,,,,,more,on,genius',\n",
       " 'fifteen,lyrics,,,,,verse,,,,you,take,a,deep,breath,and,you,walk,through,the,doors,it,s,the,mornin,,of,your,very,first,day,you,say,hi,to,your,friends,you,ain,t,seen,in,a,while,try,and,stay,out,of,everybody,s,way,it,s,your,freshman,year,and,you,re,gonna,be,here,for,the,next,four,years,in,this,town,hopin,,one,of,those,senior,boys,will,wink,at,you,and,say,,you,know,,i,haven,t,seen,you,around,before,,,,chorus,,,cause,when,you,re,fifteen,and,somebody,tells,you,they,love,you,you,re,gonna,believe,them,and,when,you,re,fifteen,,feelin,,like,there,s,nothin,,to,figure,out,well,,count,to,ten,,take,it,in,this,is,life,before,you,know,who,you,re,gonna,be,fifteen,,,verse,,,,you,sit,in,class,next,to,a,redhead,named,abigail,and,soon,enough,,you,re,best,friends,laughin,,at,the,other,girls,who,think,they,re,so,cool,we,ll,be,outta,here,as,soon,as,we,can,and,then,you,re,on,your,very,first,date,and,he,s,got,a,car,and,you,re,feelin,,like,flyin,,and,your,mama,s,waitin,,up,and,you,re,thinkin,,he,s,the,one,and,you,re,dancin,,,round,your,room,when,the,night,ends,when,the,night,ends,,,chorus,,,cause,when,you,re,fifteen,and,somebody,tells,you,they,love,you,you,re,gonna,believe,them,and,when,you,re,fifteen,and,your,first,kiss,makes,your,head,spin,,round,but,in,your,life,you,ll,do,things,greater,than,dating,the,boy,on,the,football,team,but,i,didn,t,know,it,at,fifteen,,,bridge,,when,all,you,wanted,was,to,be,wanted,wish,you,could,go,back,and,tell,yourself,what,you,know,now,back,then,,i,swore,i,was,gonna,marry,him,someday,but,i,realized,some,bigger,dreams,of,mine,and,abigail,gave,everything,she,had,to,a,boy,who,changed,his,mind,and,we,both,cried,,,chorus,,,cause,when,you,re,fifteen,and,somebody,tells,you,they,love,you,you,re,gonna,believe,them,and,when,you,re,fifteen,,don,t,forget,to,look,before,you,fall,i,ve,found,time,can,heal,most,anything,and,you,just,might,find,who,you,re,supposed,to,be,i,didn,t,know,who,i,was,supposed,to,be,at,fifteen,,,post,chorus,,la,la,la,,la,la,la,,la,la,la,la,la,la,la,,la,la,la,,la,la,la,la,la,la,la,,la,la,la,,,outro,,your,very,first,day,take,a,deep,breath,,girl,take,a,deep,breath,as,you,walk,through,the,doors,,,,,,more,on,genius',\n",
       " 'love,story,lyrics,,,,,verse,,,,we,were,both,young,when,i,first,saw,you,i,close,my,eyes,,and,the,flashback,starts,i,m,standing,there,on,a,balcony,in,summer,air,see,the,lights,,see,the,party,,the,ball,gowns,see,you,make,your,way,through,the,crowd,and,say,,,hello,,little,did,i,know,,,pre,chorus,,that,you,were,romeo,,you,were,throwing,pebbles,and,my,daddy,said,,,stay,away,from,juliet,,and,i,was,crying,on,the,staircase,begging,you,,,please,don,t,go,,,and,i,said,,,chorus,,romeo,,take,me,somewhere,we,can,be,alone,i,ll,be,waiting,,all,there,s,left,to,do,is,run,you,ll,be,the,prince,and,i,ll,be,the,princess,it,s,a,love,story,,baby,,just,say,,yes,,,,verse,,,,so,i,sneak,out,to,the,garden,to,see,you,we,keep,quiet,,,cause,we,re,dead,if,they,knew,so,close,your,eyes,escape,this,town,for,a,little,while,,oh,,oh,,,pre,chorus,,,cause,you,were,romeo,,i,was,a,scarlet,letter,and,my,daddy,said,,,stay,away,from,juliet,,but,you,were,everything,to,me,i,was,begging,you,,,please,don,t,go,,,and,i,said,,,chorus,,romeo,,take,me,somewhere,we,can,be,alone,i,ll,be,waiting,,all,there,s,left,to,do,is,run,you,ll,be,the,prince,and,i,ll,be,the,princess,it,s,a,love,story,,baby,,just,say,,yes,,romeo,,save,me,,they,re,trying,to,tell,me,how,to,feel,this,love,is,difficult,,but,it,s,real,don,t,be,afraid,,we,ll,make,it,out,of,this,mess,it,s,a,love,story,,baby,,just,say,,yes,,,,post,chorus,,oh,,oh,,,bridge,,i,got,tired,of,waiting,wondering,if,you,were,ever,coming,around,my,faith,in,you,was,fading,when,i,met,you,on,the,outskirts,of,town,,,breakdown,,and,i,said,,,romeo,,save,me,,i,ve,been,feeling,so,alone,i,keep,waiting,for,you,but,you,never,come,is,this,in,my,head,,i,don,t,know,what,to,think,,he,knelt,to,the,ground,and,pulled,out,a,ring,,and,said,,,chorus,,,marry,me,,juliet,,you,ll,never,have,to,be,alone,i,love,you,,and,that,s,all,i,really,know,i,talked,to,your,dad,,go,pick,out,a,white,dress,it,s,a,love,story,,baby,,just,say,,yes,,,,,outro,,oh,,oh,,oh,oh,,oh,,oh,,cause,we,were,both,young,when,i,first,saw,you,,,,,,more,on,genius,,,,taylor,swift,shares,her,first,re,recorded,single,,love,story,,taylor,s,version,,',\n",
       " 'hey,stephen,lyrics,,,,,intro,,mmm,mm,,mm,mm,mmm,mm,,mm,mm,mmm,mm,,mm,mm,,yeah,,,verse,,,,hey,stephen,,i,know,looks,can,be,deceiving,but,i,know,i,saw,a,light,in,you,and,as,we,walked,we,were,talking,i,didn,t,say,half,the,things,i,wanted,to,of,all,the,girls,tossing,rocks,at,your,window,i,ll,be,the,one,waiting,there,even,when,it,s,cold,hey,stephen,,boy,,you,might,have,me,believing,i,don,t,always,have,to,be,alone,,,chorus,,,cause,i,can,t,help,it,if,you,look,like,an,angel,can,t,help,it,if,i,wanna,kiss,you,in,the,rain,so,come,feel,this,magic,i,ve,been,feeling,since,i,met,you,can,t,help,it,if,there,s,no,one,else,mmm,,i,can,t,help,myself,,,verse,,,,hey,stephen,,i,ve,been,holding,back,this,feeling,so,i,got,some,things,to,say,to,you,i,ve,seen,it,all,,so,i,thought,but,i,never,seen,nobody,shine,the,way,you,do,the,way,you,walk,,way,you,talk,,way,you,say,my,name,it,s,beautiful,,wonderful,,don,t,you,ever,change,hey,stephen,,why,are,people,always,leaving,,i,think,you,and,i,should,stay,the,same,,,chorus,,,cause,i,can,t,help,it,if,you,look,like,an,angel,can,t,help,it,if,i,wanna,kiss,you,in,the,rain,so,come,feel,this,magic,i,ve,been,feeling,since,i,met,you,can,t,help,it,if,there,s,no,one,else,mmm,,i,can,t,help,myself,,,bridge,,they,re,dimming,the,street,lights,,you,re,perfect,for,me,why,aren,t,you,here,tonight,,i,m,waiting,alone,now,,so,come,on,and,come,out,and,pull,me,near,and,shine,,shine,,shine,,,breakdown,,hey,stephen,,i,could,give,you,fifty,reasons,why,i,should,be,the,one,you,choose,all,those,other,girls,,well,,they,re,beautiful,but,would,they,write,a,song,for,you,,,ha,ha,,,,chorus,,i,can,t,help,it,if,you,look,like,an,angel,can,t,help,it,if,i,wanna,kiss,you,in,the,rain,so,come,feel,this,magic,i,ve,been,feeling,since,i,met,you,can,t,help,it,if,there,s,no,one,else,mmm,,i,can,t,help,myself,if,you,look,like,an,angel,can,t,help,it,if,i,wanna,kiss,you,in,the,rain,so,come,feel,this,magic,i,ve,been,feeling,since,i,met,you,can,t,help,it,if,there,s,no,one,else,mmm,,i,can,t,help,myself,,,outro,,myself,can,t,help,myself,i,can,t,help,myself,,,,,,more,on,genius',\n",
       " 'white,horse,lyrics,,,,,verse,,,,say,you,re,sorry,,that,face,of,an,angel,comes,out,just,when,you,need,it,to,as,i,paced,back,and,forth,all,this,time,,cause,i,honestly,believed,in,you,holdin,,on,,the,days,drag,on,stupid,girl,,i,shoulda,known,,i,shoulda,known,,,chorus,,that,i,m,not,a,princess,,this,ain,t,a,fairytale,i,m,not,the,one,you,ll,sweep,off,her,feet,,lead,her,up,the,stairwell,this,ain,t,hollywood,,this,is,a,small,town,i,was,a,dreamer,before,you,went,and,let,me,down,now,it,s,too,late,for,you,and,your,white,horse,to,come,around,,,verse,,,,maybe,i,was,naive,,got,lost,in,your,eyes,and,never,really,had,a,chance,my,mistake,,i,didn,t,know,to,be,in,love,you,had,to,fight,to,have,the,upper,hand,i,had,so,many,dreams,about,you,and,me,happy,endings,,now,i,know,,,chorus,,that,i,m,not,a,princess,,this,ain,t,a,fairytale,i,m,not,the,one,you,ll,sweep,off,her,feet,,lead,her,up,the,stairwell,this,ain,t,hollywood,,this,is,a,small,town,i,was,a,dreamer,before,you,went,and,let,me,down,now,it,s,too,late,for,you,and,your,white,horse,to,come,around,,,bridge,,and,there,you,are,on,your,knees,beggin,,for,forgiveness,,beggin,,for,me,just,like,i,always,wanted,but,i,m,so,sorry,,,chorus,,,cause,i,m,not,your,princess,,this,ain,t,our,fairytale,i,m,gonna,find,someone,someday,who,might,actually,treat,me,well,this,is,a,big,world,,that,was,a,small,town,there,in,my,rear,view,mirror,disappearing,now,and,it,s,too,late,for,you,and,your,white,horse,now,it,s,too,late,for,you,and,your,white,horse,to,catch,me,now,,,outro,,oh,,whoa,,whoa,,whoa,try,and,catch,me,now,,oh,it,s,too,late,to,catch,me,now,,,,,,more,on,genius',\n",
       " 'you,belong,with,me,lyrics,,,,,verse,,,,you,re,on,the,phone,with,your,girlfriend,,she,s,upset,she,s,going,off,about,something,that,you,said,,cause,she,doesn,t,get,your,humor,like,i,do,i,m,in,the,room,,it,s,a,typical,tuesday,night,i,m,listening,to,the,kind,of,music,she,doesn,t,like,and,she,ll,never,know,your,story,like,i,do,,,pre,chorus,,but,she,wears,short,skirts,,i,wear,t,shirts,she,s,cheer,captain,and,i,m,on,the,bleachers,dreaming,about,the,day,when,you,wake,up,and,find,that,what,you,re,looking,for,has,been,here,the,whole,time,,,chorus,,if,you,could,see,that,i,m,the,one,who,understands,you,been,here,all,along,,so,why,can,t,you,see,,you,belong,with,me,,you,belong,with,me,,,verse,,,,walking,the,streets,with,you,and,your,worn,out,jeans,i,can,t,help,thinking,this,is,how,it,ought,to,be,laughing,on,a,park,bench,,thinking,to,myself,hey,,isn,t,this,easy,,and,you,ve,got,a,smile,that,could,light,up,this,whole,town,i,haven,t,seen,it,in,a,while,since,she,brought,you,down,you,say,you,re,fine,,i,know,you,better,than,that,hey,,whatcha,doing,with,a,girl,like,that,,,,pre,chorus,,she,wears,high,heels,,i,wear,sneakers,she,s,cheer,captain,and,i,m,on,the,bleachers,dreaming,about,the,day,when,you,wake,up,and,find,that,what,you,re,looking,for,has,been,here,the,whole,time,,,chorus,,if,you,could,see,that,i,m,the,one,who,understands,you,been,here,all,along,,so,why,can,t,you,see,,you,belong,with,me,standing,by,and,waiting,at,your,back,door,all,this,time,how,could,you,not,know,,baby,,you,belong,with,me,,you,belong,with,me,,,bridge,,oh,,i,remember,you,driving,to,my,house,in,the,middle,of,the,night,i,m,the,one,who,makes,you,laugh,when,you,know,you,re,,bout,to,cry,and,i,know,your,favorite,songs,and,you,tell,me,,bout,your,dreams,think,i,know,where,you,belong,think,i,know,it,s,with,me,,,chorus,,can,t,you,see,that,i,m,the,one,who,understands,you,been,here,all,along,,so,why,can,t,you,see,,you,belong,with,me,standing,by,and,waiting,at,your,back,door,all,this,time,how,could,you,not,know,,baby,,you,belong,with,me,,you,belong,with,me,,,outro,,you,belong,with,me,have,you,ever,thought,just,maybe,you,belong,with,me,,you,belong,with,me,,,,,,more,on,genius',\n",
       " 'breathe,lyrics,,,,,verse,,,,taylor,swift,,i,see,your,face,in,my,mind,as,i,drive,away,,cause,none,of,us,thought,it,was,gonna,end,that,way,people,are,people,and,sometimes,we,change,our,minds,but,it,s,killing,me,to,see,you,go,after,all,this,time,,,verse,,,,taylor,swift,with,colbie,caillat,,music,starts,playing,like,the,end,of,a,sad,movie,it,s,the,kind,of,ending,you,don,t,really,wanna,see,,cause,it,s,tragedy,and,it,ll,only,bring,you,down,now,i,don,t,know,what,to,be,without,you,around,,,pre,chorus,,taylor,swift,with,colbie,caillat,,and,we,know,it,s,never,simple,,never,easy,never,a,clean,break,,no,one,here,to,save,me,you,re,the,only,thing,i,know,like,the,back,of,my,hand,,,chorus,,taylor,swift,with,colbie,caillat,,and,i,can,t,breathe,without,you,,but,i,have,to,breathe,without,you,,but,i,have,to,,,verse,,,,taylor,swift,with,colbie,caillat,,never,wanted,this,,never,wanna,see,you,hurt,every,little,bump,in,the,road,,i,tried,to,swerve,but,people,are,people,and,sometimes,it,doesn,t,work,out,nothing,we,say,is,gonna,save,us,from,the,fall,out,,,pre,chorus,,taylor,swift,with,colbie,caillat,,and,we,know,it,s,never,simple,,never,easy,never,a,clean,break,,no,one,here,to,save,me,you,re,the,only,thing,i,know,like,the,back,of,my,hand,,,chorus,,taylor,swift,with,colbie,caillat,,and,i,can,t,breathe,without,you,,but,i,have,to,breathe,without,you,but,i,have,to,,,bridge,,taylor,swift,with,colbie,caillat,,it,s,,,a,m,,feeling,like,i,just,lost,a,friend,hope,you,know,it,s,not,easy,,easy,for,me,it,s,,,a,m,,feeling,like,i,just,lost,a,friend,hope,you,know,this,ain,t,easy,,easy,for,me,,,pre,chorus,,taylor,swift,with,colbie,caillat,,and,we,know,it,s,never,simple,,never,easy,never,a,clean,break,,no,one,here,to,save,me,,oh,oh,,,chorus,,taylor,swift,with,colbie,caillat,,i,can,t,breathe,without,you,,but,i,have,to,breathe,without,you,,but,i,have,to,breathe,without,you,,but,i,have,to,,,outro,,taylor,swift,,,colbie,caillat,,i,m,sorry,,i,m,sorry,,mmm,,i,m,sorry,,,yeah,,yeah,,i,m,sorry,i,m,sorry,,i,m,sorry,i,m,sorry,,,,,,more,on,genius',\n",
       " 'tell,me,why,lyrics,,,,,verse,,,,i,took,a,chance,,i,took,a,shot,and,you,might,think,i,m,bulletproof,,but,i,m,not,you,took,a,swing,,i,took,it,hard,and,down,here,from,the,ground,i,see,who,you,are,,,chorus,,i,m,sick,and,tired,of,your,attitude,i,m,feeling,like,i,don,t,know,you,you,tell,me,that,you,love,me,,then,cut,me,down,and,i,need,you,like,a,heartbeat,but,you,know,you,got,a,mean,streak,that,makes,me,run,for,cover,when,you,re,around,and,here,s,to,you,and,your,temper,yes,,i,remember,what,you,said,last,night,and,i,know,,that,you,see,,what,you,re,doing,to,me,tell,me,why,,,verse,,,,you,could,write,a,book,on,how,to,ruin,someone,s,perfect,day,well,,i,get,so,confused,and,frustrated,forget,what,i,m,trying,to,say,,oh,,,chorus,,i,m,sick,and,tired,of,your,reasons,i,got,no,one,to,believe,in,you,tell,me,that,you,want,me,,then,push,me,around,and,i,need,you,like,a,heartbeat,but,you,know,you,got,a,mean,streak,that,makes,me,run,for,cover,when,you,re,around,here,s,to,you,and,your,temper,yes,,i,remember,what,you,said,last,night,and,i,know,,that,you,see,,what,you,re,doing,to,me,tell,me,why,,,bridge,,why,do,you,have,to,make,me,feel,small,so,you,can,feel,whole,inside,,why,do,you,have,to,put,down,my,dreams,so,you,re,the,only,thing,on,my,mind,,,,chorus,,i,m,sick,and,tired,of,your,attitude,i,m,feeling,like,i,don,t,know,you,you,tell,me,that,you,want,me,,then,cut,me,down,i,m,sick,and,tired,of,your,reasons,i,ve,got,no,one,to,believe,in,you,ask,me,for,my,love,,then,you,push,me,around,here,s,to,you,and,your,temper,yes,,i,remember,what,you,said,last,night,and,i,know,that,you,see,what,you,re,doing,to,me,tell,me,why,,why,,tell,me,why,,why,,,,outro,,i,take,a,step,back,,let,you,go,i,told,you,i,m,not,bulletproof,now,you,know,,,,,,more,on,genius',\n",
       " 'you,re,not,sorry,lyrics,,,,,verse,,,,all,this,time,i,was,wasting,hoping,you,would,come,around,i,ve,been,giving,out,chances,every,time,and,all,you,do,is,let,me,down,and,it,s,taken,me,this,long,,baby,,but,i,ve,figured,you,out,and,you,re,thinking,we,ll,be,fine,again,,but,not,this,time,around,,,chorus,,you,don,t,have,to,call,anymore,i,won,t,pick,up,the,phone,this,is,the,last,straw,don,t,wanna,hurt,anymore,and,you,can,tell,me,that,you,re,sorry,but,i,don,t,believe,you,,baby,,like,i,did,before,you,re,not,sorry,,no,no,no,no,,,,verse,,,,you,re,looking,so,innocent,,i,might,believe,you,if,i,didn,t,know,could,ve,loved,you,all,my,life,if,you,hadn,t,left,me,waiting,in,the,cold,and,you,ve,got,your,share,of,secrets,and,i,m,tired,of,being,last,to,know,,oh,and,now,you,re,asking,me,to,listen,,cause,it,s,worked,each,time,before,,,chorus,,but,you,don,t,have,to,call,anymore,i,won,t,pick,up,the,phone,this,is,the,last,straw,don,t,wanna,hurt,anymore,and,you,can,tell,me,that,you,re,sorry,but,i,don,t,believe,you,,baby,,like,i,did,before,you,re,not,sorry,,no,no,no,no,,you,re,not,sorry,,no,no,no,no,,,,bridge,,you,had,me,crawling,for,you,,honey,,and,it,never,would,ve,gone,away,,no,you,used,to,shine,so,bright,,but,i,watched,all,of,it,fade,,,chorus,,so,you,don,t,have,to,call,anymore,i,won,t,pick,up,the,phone,this,is,the,last,straw,there,s,nothing,left,to,beg,for,and,you,can,tell,me,that,you,re,sorry,but,i,don,t,believe,you,,baby,,like,i,did,before,you,re,not,sorry,,no,no,no,no,,you,re,not,sorry,,no,no,no,no,,,no,,no,,no,,no,,no,,no,,no,,no,,no,,no,,no,,no,,woah,,oh,,oh,oh,,oh,oh,oh,,oh,,oh,,oh,,no,,no,,no,,no,,no,,no,,,,,,,more,on,genius',\n",
       " 'the,way,i,loved,you,lyrics,,,,,verse,,,,he,is,sensible,and,so,incredible,and,all,my,single,friends,are,jealous,he,says,everything,i,need,to,hear,and,it,s,like,i,couldn,t,ask,for,anything,better,he,opens,up,my,door,and,i,get,into,his,car,and,he,says,you,look,beautiful,tonight,and,i,feel,perfectly,fine,,,chorus,,but,i,miss,screaming,and,fighting,and,kissing,in,the,rain,and,it,s,,am,and,i,m,cursing,your,name,you,re,so,in,love,that,you,act,insane,and,that,s,the,way,i,loved,you,breaking,down,and,coming,undone,it,s,a,roller,coaster,kind,of,rush,and,i,never,knew,i,could,feel,that,much,and,that,s,the,way,i,loved,you,,,verse,,,,he,respects,my,space,and,never,makes,me,wait,and,he,calls,exactly,when,he,says,he,will,he,s,close,to,my,mother,talks,business,with,my,father,he,s,charming,and,endearing,and,i,m,comfortable,,,chorus,,but,i,miss,screaming,and,fighting,and,kissing,in,the,rain,it,s,,am,and,i,m,cursing,your,name,you,re,so,in,love,that,you,acted,insane,and,that,s,the,way,i,loved,you,breaking,down,and,coming,undone,it,s,a,roller,coaster,kind,of,rush,and,i,never,knew,i,could,feel,that,much,and,that,s,the,way,i,loved,you,,,bridge,,he,can,t,see,the,smile,i,m,faking,and,my,heart,s,not,breaking,,cause,i,m,not,feeling,anything,at,all,and,you,were,wild,and,crazy,just,so,frustrating,intoxicating,,complicated,got,away,by,some,mistake,and,now,,,chorus,,i,miss,screaming,and,fighting,and,kissing,in,the,rain,it,s,,am,and,i,m,cursing,your,name,i,m,so,in,love,that,i,acted,insane,and,that,s,the,way,i,loved,you,breaking,down,and,coming,undone,it,s,a,roller,coaster,kind,of,rush,and,i,never,knew,i,could,feel,that,much,and,that,s,the,way,i,loved,you,oh,,oh,,,outro,,and,that,s,the,way,i,loved,you,oh,,oh,never,knew,i,could,feel,that,much,and,that,s,the,way,i,loved,you,,,,,,more,on,genius',\n",
       " 'forever,,,always,lyrics,,,,,verse,,,,once,upon,a,time,i,believe,it,was,a,tuesday,when,i,caught,your,eye,and,we,caught,onto,something,i,hold,onto,the,night,you,looked,me,in,the,eye,and,told,me,you,loved,me,were,you,just,kidding,,,cause,it,seems,to,me,this,thing,is,breaking,down,,we,almost,never,speak,i,don,t,feel,welcome,anymore,baby,,what,happened,,please,tell,me,,cause,one,second,it,was,perfect,now,you,re,halfway,out,the,door,,,chorus,,and,i,stare,at,the,phone,,he,still,hasn,t,called,and,then,you,feel,so,low,you,can,t,feel,nothing,at,all,and,you,flashback,to,when,he,said,forever,and,always,oh,,and,it,rains,in,your,bedroom,everything,is,wrong,it,rains,when,you,re,here,and,it,rains,when,you,re,gone,,cause,i,was,there,when,you,said,forever,and,always,,,verse,,,,was,i,out,of,line,,did,i,say,something,way,too,honest,,made,you,run,and,hide,like,a,scared,little,boy,,i,looked,into,your,eyes,thought,i,knew,you,for,a,minute,,now,i,m,not,so,sure,so,here,s,to,everything,coming,down,to,nothing,here,s,to,silence,that,cuts,me,to,the,core,where,is,this,going,,thought,i,knew,for,a,minute,,but,i,don,t,anymore,,,chorus,,and,i,stare,at,the,phone,,he,still,hasn,t,called,and,then,you,feel,so,low,you,can,t,feel,nothing,at,all,and,you,flashback,to,when,he,said,forever,and,always,oh,,and,it,rains,in,your,bedroom,everything,is,wrong,it,rains,when,you,re,here,and,it,rains,when,you,re,gone,,cause,i,was,there,when,you,said,forever,and,always,you,didn,t,mean,it,baby,,i,don,t,think,so,,,bridge,,oh,,back,up,,baby,,back,up,did,you,forget,everything,,back,up,,baby,,back,up,did,you,forget,everything,,,,chorus,,,cause,it,rains,in,your,bedroom,everything,is,wrong,it,rains,when,you,re,here,and,it,rains,when,you,re,gone,,cause,i,was,there,when,you,said,forever,and,always,oh,,i,stare,at,the,phone,,he,still,hasn,t,called,and,then,you,feel,so,low,you,can,t,feel,nothing,at,all,and,you,flashback,to,when,we,said,forever,and,always,and,it,rains,in,your,bedroom,everything,is,wrong,it,rains,when,you,re,here,and,it,rains,when,you,re,gone,,cause,i,was,there,when,you,said,forever,and,always,you,didn,t,mean,it,baby,you,said,forever,and,always,,yeah,,,,,,more,on,genius,,,,taylor,swift,s,best,subliminals',\n",
       " 'the,best,day,lyrics,,,,,verse,,,,i,m,five,years,old,,it,s,getting,cold,,i,ve,got,my,big,coat,on,i,hear,your,laugh,and,look,up,smiling,at,you,,i,run,and,run,past,the,pumpkin,patch,and,the,tractor,rides,look,now,,the,sky,is,gold,i,hug,your,legs,and,fall,asleep,on,the,way,home,,,chorus,,,,i,don,t,know,why,all,the,trees,change,in,the,fall,but,i,know,you,re,not,scared,of,anything,at,all,don,t,know,if,snow,white,s,house,is,near,or,far,away,but,i,know,i,had,the,best,day,with,you,today,,,verse,,,,i,m,thirteen,now,and,don,t,know,how,my,friends,could,be,so,mean,i,come,home,crying,and,you,hold,me,tight,and,grab,the,keys,and,we,drive,and,drive,until,we,found,a,town,far,enough,away,and,we,talk,and,window,shop,,til,i,ve,forgotten,all,their,names,,,chorus,,,,i,don,t,know,who,i,m,going,to,talk,to,now,at,school,but,i,know,i,m,laughing,on,the,car,ride,home,with,you,don,t,know,how,long,it,s,going,to,take,to,feel,okay,but,i,know,i,had,the,best,day,with,you,today,,,bridge,,i,have,an,excellent,father,,his,strength,is,making,me,stronger,god,smiles,on,my,little,brother,,inside,and,out,he,s,better,than,i,am,i,grew,up,in,a,pretty,house,and,i,had,space,to,run,and,i,had,the,best,days,with,you,,,verse,,,,there,is,a,video,i,found,from,back,when,i,was,three,you,set,up,a,paint,set,in,the,kitchen,and,you,re,talking,to,me,it,s,the,age,of,princesses,and,pirate,ships,and,the,seven,dwarfs,and,daddy,s,smart,and,you,re,the,prettiest,lady,in,the,whole,wide,world,,,chorus,,,,and,now,i,know,why,all,the,trees,change,in,the,fall,i,know,you,were,on,my,side,even,when,i,was,wrong,and,i,love,you,for,giving,me,your,eyes,for,staying,back,and,watching,me,shine,and,i,didn,t,know,if,you,knew,,so,i,m,taking,this,chance,to,say,that,i,had,the,best,day,with,you,today,,,,,,more,on,genius',\n",
       " 'change,lyrics,,,,,verse,,,,and,it,s,a,sad,picture,,the,final,blow,hits,you,somebody,else,gets,what,you,wanted,again,and,you,know,it,s,all,the,same,,another,time,and,place,repeating,history,and,you,re,getting,sick,of,it,but,i,believe,in,whatever,you,do,and,i,ll,do,anything,to,see,it,through,,,chorus,,because,these,things,will,change,can,you,feel,it,now,,these,walls,that,they,put,up,to,hold,us,back,will,fall,down,this,revolution,,the,time,will,come,for,us,to,finally,win,and,we,ll,sing,hallelujah,,we,ll,sing,hallelujah,oh,,oh,,,verse,,,,so,we,ve,been,outnumbered,,raided,,and,now,cornered,it,s,hard,to,fight,when,the,fight,ain,t,fair,we,re,getting,stronger,now,,find,things,they,never,found,they,might,be,bigger,but,we,re,faster,and,never,scared,you,can,walk,away,,say,we,don,t,need,this,but,there,s,something,in,your,eyes,says,we,can,beat,this,,,chorus,,,cause,these,things,will,change,can,you,feel,it,now,,these,walls,that,they,put,up,to,hold,us,back,will,fall,down,this,revolution,,the,time,will,come,for,us,to,finally,win,and,we,ll,sing,hallelujah,,we,ll,sing,hallelujah,oh,,oh,,,bridge,,tonight,we,stand,,get,off,our,knees,fight,for,what,we,ve,worked,for,all,these,years,and,the,battle,was,long,,it,s,the,fight,of,our,lives,but,we,ll,stand,up,champions,tonight,,,chorus,,it,was,the,night,things,changed,can,you,see,it,now,,these,walls,that,they,put,up,to,hold,us,back,fell,down,it,s,a,revolution,,throw,your,hands,up,,cause,we,never,gave,in,and,we,ll,sing,hallelujah,,we,sang,hallelujah,hallelujah,,,,,,more,on,genius',\n",
       " 'fearless,,liner,notes,,lyrics,,,,taylor,s,letter,this,album,is,called,,fearless,,,and,i,guess,i,d,like,to,clarify,why,we,chose,that,as,the,title,,to,me,,,fearless,,is,not,the,absence,of,fear,,it,s,not,being,completely,unafraid,,to,me,,fearless,is,having,fears,,fearless,is,having,doubts,,lots,of,them,,to,me,,fearless,is,living,in,spite,of,those,things,that,scare,you,to,death,,fearless,is,falling,madly,in,love,again,,even,though,you,ve,been,hurt,before,,fearless,is,walking,into,your,freshman,year,of,high,school,at,fifteen,,fearless,is,getting,back,up,and,fighting,for,what,you,want,over,and,over,again,,,even,though,every,time,you,e,tried,before,,you,ve,lost,,it,s,fearless,to,have,faith,that,someday,things,will,change,,fearless,is,having,the,courage,to,say,goodbye,to,someone,who,only,hurts,you,,even,if,you,can,t,breathe,without,them,,i,think,it,s,fearless,to,fall,for,your,best,friend,,even,though,he,s,in,love,with,someone,else,,and,when,someone,apologizes,to,you,enough,times,for,things,they,ll,never,stop,doing,,i,think,it,s,fearless,to,stop,believing,them,,it,s,fearless,to,say,,you,re,not,sorry,,,and,walk,away,,i,think,loving,someone,despite,what,people,think,is,fearless,,i,think,allowing,yourself,to,cry,on,the,bathroom,floor,is,fearless,,letting,go,is,fearless,,then,,moving,on,and,being,alright,,,that,s,fearless,too,,but,no,matter,what,love,throws,at,you,,you,have,to,believe,in,it,,you,have,to,believe,in,love,stories,and,prince,charmings,and,happily,every,after,,that,s,why,i,write,these,songs,,because,i,think,love,is,fearless,,,,,,fearless,hidden,message,,i,loved,you,before,i,met,you,,,,,fifteen,hidden,message,,i,cried,while,recording,this,,,,,love,story,hidden,message,,someday,i,ll,find,this,,,,,hey,stephen,hidden,message,,love,and,theft,,,,,white,horse,hidden,message,,all,i,ever,wanted,was,the,truth,,,,,you,belong,with,me,hidden,message,,love,is,blind,so,you,couldn,t,see,me,,,,,breathe,,featuring,colbie,caillat,,hidden,message,,i,m,sorry,i,m,sorry,i,m,sorry,,,,,tell,me,why,hidden,message,,guess,i,was,fooled,by,your,smile,,,,,you,re,not,sorry,hidden,message,,she,can,have,you,,,,,,the,way,i,loved,you,hidden,message,,we,can,t,go,back,,,,,,forever,,,always,hidden,message,,if,you,play,these,games,we,re,both,going,to,lose,,,,,,the,best,day,hidden,message,,god,bless,andrea,swift,,,,,,change,hidden,message,,you,made,things,change,for,me,,,platinum,edition,tracks,,,,jump,then,fall,hidden,message,,last,summer,was,magical,,,,,untouchable,hidden,message,,we,always,want,what,we,can,t,reach,,,,,forever,,,always,,piano,version,,hidden,message,,still,miss,who,i,thought,he,was,,,,,come,in,with,the,rain,hidden,message,,i,won,t,admit,that,i,d,wish,you,d,come,back,,,,,superstar,hidden,message,,i,ll,never,tell,,,,,the,other,side,of,the,door,hidden,message,,what,i,was,really,thinking,when,i,slammed,the,door,,,,,,more,on,genius']"
      ]
     },
     "execution_count": 64,
     "metadata": {},
     "output_type": "execute_result"
    }
   ],
   "source": [
    "corpus"
   ]
  },
  {
   "cell_type": "code",
   "execution_count": 66,
   "id": "df365f74",
   "metadata": {},
   "outputs": [],
   "source": [
    "# creating bag of words model\n",
    "cv = CountVectorizer(max_features = 1500)\n",
    "  \n",
    "X = cv.fit_transform(corpus).toarray()\n",
    "y = dataset_pd.iloc[:, 1].values"
   ]
  },
  {
   "cell_type": "code",
   "execution_count": null,
   "id": "dc2d5a5c",
   "metadata": {},
   "outputs": [],
   "source": []
  },
  {
   "cell_type": "code",
   "execution_count": 85,
   "id": "91801100",
   "metadata": {},
   "outputs": [],
   "source": [
    "my_test= \"i,know,we were,perfect,and,i,can,imagine,that,you,write,my,song,car,paco\"\n",
    "o = cv.fit_transform([my_test]).toarray()"
   ]
  },
  {
   "cell_type": "code",
   "execution_count": 86,
   "id": "10448c9c",
   "metadata": {},
   "outputs": [
    {
     "data": {
      "text/plain": [
       "array([[1, 1, 1, 1, 1, 1, 1, 1, 1, 1, 1, 1, 1, 1]], dtype=int64)"
      ]
     },
     "execution_count": 86,
     "metadata": {},
     "output_type": "execute_result"
    }
   ],
   "source": [
    "o"
   ]
  },
  {
   "cell_type": "code",
   "execution_count": 72,
   "id": "10115d55",
   "metadata": {},
   "outputs": [
    {
     "name": "stdout",
     "output_type": "stream",
     "text": [
      "25\n",
      "1152\n",
      "[[0 0 0 ... 1 0 1]\n",
      " [0 1 0 ... 3 0 0]\n",
      " [0 6 0 ... 7 0 0]\n",
      " ...\n",
      " [0 0 0 ... 3 0 0]\n",
      " [0 0 0 ... 2 0 0]\n",
      " [0 0 1 ... 3 1 0]]\n",
      "Sour\n"
     ]
    }
   ],
   "source": [
    "print(len(X))\n",
    "print(len(X[0]))\n",
    "\n",
    "print(X[100])\n",
    "print(y[0])"
   ]
  },
  {
   "cell_type": "code",
   "execution_count": 74,
   "id": "6d93b180",
   "metadata": {},
   "outputs": [
    {
     "name": "stdout",
     "output_type": "stream",
     "text": [
      "Collecting sklearn\n",
      "  Downloading sklearn-0.0.tar.gz (1.1 kB)\n",
      "Requirement already satisfied: scikit-learn in c:\\users\\fjdur\\anaconda3\\lib\\site-packages (from sklearn) (0.24.1)\n",
      "Requirement already satisfied: joblib>=0.11 in c:\\users\\fjdur\\anaconda3\\lib\\site-packages (from scikit-learn->sklearn) (1.0.1)\n",
      "Requirement already satisfied: threadpoolctl>=2.0.0 in c:\\users\\fjdur\\anaconda3\\lib\\site-packages (from scikit-learn->sklearn) (2.1.0)\n",
      "Requirement already satisfied: numpy>=1.13.3 in c:\\users\\fjdur\\anaconda3\\lib\\site-packages (from scikit-learn->sklearn) (1.19.5)\n",
      "Requirement already satisfied: scipy>=0.19.1 in c:\\users\\fjdur\\anaconda3\\lib\\site-packages (from scikit-learn->sklearn) (1.6.2)\n",
      "Building wheels for collected packages: sklearn\n",
      "  Building wheel for sklearn (setup.py): started\n",
      "  Building wheel for sklearn (setup.py): finished with status 'done'\n",
      "  Created wheel for sklearn: filename=sklearn-0.0-py2.py3-none-any.whl size=1316 sha256=3db8f9d0f2bab5a7cad5005758704a1b80f00a0417470dc0b3d2fa4223754de5\n",
      "  Stored in directory: c:\\users\\fjdur\\appdata\\local\\pip\\cache\\wheels\\22\\0b\\40\\fd3f795caaa1fb4c6cb738bc1f56100be1e57da95849bfc897\n",
      "Successfully built sklearn\n",
      "Installing collected packages: sklearn\n",
      "Successfully installed sklearn-0.0\n"
     ]
    }
   ],
   "source": [
    "!pip install sklearn"
   ]
  },
  {
   "cell_type": "code",
   "execution_count": 79,
   "id": "6c581d5c",
   "metadata": {},
   "outputs": [],
   "source": [
    "from sklearn.model_selection import train_test_split\n",
    "X_train, X_test, y_train, y_test = train_test_split(\n",
    "           X, y, test_size = 0.25, random_state = 1)"
   ]
  },
  {
   "cell_type": "code",
   "execution_count": 80,
   "id": "dd108b5a",
   "metadata": {},
   "outputs": [
    {
     "name": "stdout",
     "output_type": "stream",
     "text": [
      "['Fearless' 'Sour' 'Sour' 'Fearless' 'Sour' 'Sour' 'Fearless' 'Sour'\n",
      " 'Fearless' 'Sour' 'Fearless' 'Fearless' 'Fearless' 'Sour' 'Sour'\n",
      " 'Fearless' 'Fearless' 'Sour']\n",
      "['Fearless' 'Fearless' 'Fearless' 'Sour' 'Fearless' 'Sour' 'Fearless']\n"
     ]
    }
   ],
   "source": [
    "print(y_train)\n",
    "print(y_test)"
   ]
  },
  {
   "cell_type": "code",
   "execution_count": 81,
   "id": "de4a65a4",
   "metadata": {},
   "outputs": [
    {
     "data": {
      "text/plain": [
       "array([[5, 0],\n",
       "       [0, 2]], dtype=int64)"
      ]
     },
     "execution_count": 81,
     "metadata": {},
     "output_type": "execute_result"
    }
   ],
   "source": [
    "\n",
    "\n",
    "# fitting naive bayes to the training set\n",
    "from sklearn.naive_bayes import GaussianNB\n",
    "from sklearn.metrics import confusion_matrix\n",
    "  \n",
    "classifier = GaussianNB();\n",
    "classifier.fit(X_train, y_train)\n",
    "  \n",
    "# predicting test set results\n",
    "y_pred = classifier.predict(X_test)\n",
    "  \n",
    "# making the confusion matrix\n",
    "cm = confusion_matrix(y_test, y_pred)\n",
    "cm"
   ]
  },
  {
   "cell_type": "code",
   "execution_count": null,
   "id": "cc7fe113",
   "metadata": {},
   "outputs": [],
   "source": []
  },
  {
   "cell_type": "code",
   "execution_count": null,
   "id": "4113fedb",
   "metadata": {},
   "outputs": [],
   "source": [
    "\n",
    "  \n",
    "dataset = [[\"I liked the movie\", \"positive\"],\n",
    "           [\"It’s a good movie. Nice story\", \"positive\"],\n",
    "           [\"Hero’s acting is bad but heroine looks good.\\\n",
    "            Overall nice movie\", \"positive\"],\n",
    "            [\"Nice songs. But sadly boring ending.\", \"negative\"],\n",
    "            [\"sad movie, boring movie\", \"negative\"]]\n",
    "              \n",
    "dataset = pd.DataFrame(dataset)\n",
    "dataset.columns = [\"Text\", \"Reviews\"]\n",
    "  \n",
    "nltk.download('stopwords')\n",
    "  \n",
    "corpus = []\n",
    "  \n",
    "for i in range(0, 5):\n",
    "    text = re.sub('[^a-zA-Z]', '', dataset['Text'][i])\n",
    "    text = text.lower()\n",
    "    text = text.split()\n",
    "    ps = PorterStemmer()\n",
    "    text = ''.join(text)\n",
    "    corpus.append(text)\n",
    "  \n",
    "# creating bag of words model\n",
    "cv = CountVectorizer(max_features = 1500)\n",
    "  \n",
    "X = cv.fit_transform(corpus).toarray()\n",
    "y = dataset.iloc[:, 1].values\n",
    "\n",
    "# splitting the data set into training set and test set\n",
    "from sklearn.cross_validation import train_test_split\n",
    "  \n",
    "X_train, X_test, y_train, y_test = train_test_split(\n",
    "           X, y, test_size = 0.25, random_state = 0)\n",
    "\n",
    "# fitting naive bayes to the training set\n",
    "from sklearn.naive_bayes import GaussianNB\n",
    "from sklearn.metrics import confusion_matrix\n",
    "  \n",
    "classifier = GaussianNB();\n",
    "classifier.fit(X_train, y_train)\n",
    "  \n",
    "# predicting test set results\n",
    "y_pred = classifier.predict(X_test)\n",
    "  \n",
    "# making the confusion matrix\n",
    "cm = confusion_matrix(y_test, y_pred)\n",
    "cm"
   ]
  },
  {
   "cell_type": "code",
   "execution_count": null,
   "id": "65407197",
   "metadata": {},
   "outputs": [],
   "source": []
  },
  {
   "cell_type": "code",
   "execution_count": null,
   "id": "0d7971fa",
   "metadata": {},
   "outputs": [],
   "source": []
  },
  {
   "cell_type": "code",
   "execution_count": 4,
   "id": "6eded5c6",
   "metadata": {},
   "outputs": [],
   "source": [
    "ham = 'play sports today, went play sports, secret sports event, sports is today, sports costs money'\n",
    "spam = 'offer is secret, click secret link, secret sports link'"
   ]
  },
  {
   "cell_type": "code",
   "execution_count": null,
   "id": "2363eb35",
   "metadata": {},
   "outputs": [],
   "source": []
  },
  {
   "cell_type": "code",
   "execution_count": null,
   "id": "72ac1fee",
   "metadata": {},
   "outputs": [],
   "source": []
  },
  {
   "cell_type": "code",
   "execution_count": 3,
   "id": "f8719713",
   "metadata": {},
   "outputs": [],
   "source": [
    "V = ['offer', 'is', 'secret', 'click', 'link', 'sports', 'play', 'today', 'went', 'event', 'costs', 'money']"
   ]
  },
  {
   "cell_type": "code",
   "execution_count": null,
   "id": "be3c5f44",
   "metadata": {},
   "outputs": [],
   "source": [
    "#ne\n",
    "V_dict= {'offer':2, 'is':3, 'secret':7, 'click':2, 'link':4, 'sports', 'play', 'today', 'went', 'event', 'costs', 'money'}"
   ]
  },
  {
   "cell_type": "code",
   "execution_count": null,
   "id": "54287a4e",
   "metadata": {},
   "outputs": [],
   "source": [
    "# Modelo bolsa de palabra,\n",
    "V = {offer: 2, is: 3, secret: 7, click: 2, link: 4, sports: 7, play: 2, today: 2, went: 1, event: 1, costs: 1, money: 1}\n",
    "\n",
    "V = {offer: 1, is: 2, secret: 4, click: 1, link: 2, sports: 6, play: 2, today: 2, went: 1, event: 1, costs: 1, money: 1}"
   ]
  }
 ],
 "metadata": {
  "kernelspec": {
   "display_name": "Python 3",
   "language": "python",
   "name": "python3"
  },
  "language_info": {
   "codemirror_mode": {
    "name": "ipython",
    "version": 3
   },
   "file_extension": ".py",
   "mimetype": "text/x-python",
   "name": "python",
   "nbconvert_exporter": "python",
   "pygments_lexer": "ipython3",
   "version": "3.8.8"
  }
 },
 "nbformat": 4,
 "nbformat_minor": 5
}
